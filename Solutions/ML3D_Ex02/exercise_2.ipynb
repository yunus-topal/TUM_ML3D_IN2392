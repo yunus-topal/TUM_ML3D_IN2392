{
 "cells": [
  {
   "attachments": {},
   "cell_type": "markdown",
   "metadata": {
    "collapsed": true
   },
   "source": [
    "# Exercise 2: Shape Classification and Segmentation\n",
    "\n",
    "**Submission Deadline**: 30.05.2023, 23:55\n",
    "\n",
    "In this exercise, we will dive into Machine Learning on 3D shapes by taking a look at shape classification and segmentation."
   ]
  },
  {
   "attachments": {},
   "cell_type": "markdown",
   "metadata": {},
   "source": [
    "## 2.0. Running this notebook\n",
    "We recommend running this notebook on a CUDA compatible local gpu. You can also run training on cpu, it will just take longer.\n",
    "\n",
    "You have three options for running this exercise on a GPU, choose one of them and start the exercise below in section \"Imports\":\n",
    "1. Locally on your own GPU\n",
    "2. On our dedicated compute cluster\n",
    "3. On Google Colab\n",
    "\n",
    "We describe every option in more detail below:"
   ]
  },
  {
   "attachments": {},
   "cell_type": "markdown",
   "metadata": {},
   "source": [
    "---\n",
    "\n",
    "### (a) Local Execution\n",
    "\n",
    "If you run this notebook locally, you have to first install the python dependiencies again. They are the same as for exercise 1 so you can re-use the environment you used last time. If you use [poetry](https://python-poetry.org), you can also simply re-install everything (`poetry install`) and then run this notebook via `poetry run jupyter notebook`.\n",
    "\n",
    "In case you are working with a RTX 3000-series GPU, you need to install a patched version of pytorch:"
   ]
  },
  {
   "cell_type": "code",
   "execution_count": null,
   "metadata": {},
   "outputs": [],
   "source": [
    "%pip install torch torchvision --extra-index-url https://download.pytorch.org/whl/cu113"
   ]
  },
  {
   "attachments": {},
   "cell_type": "markdown",
   "metadata": {},
   "source": [
    "### (b) Compute Cluster\n",
    "\n",
    "We provide access to a small compute cluster for the exercises and projects, consisting of a login node and 4 compute nodes with one dedicated RTX 3090 GPU each.\n",
    "Please send us a short email with your name and preferred username so we can add you as a user.\n",
    "\n",
    "We uploaded a PDF to Moodle with detailed information on how to access and use the cluster.\n",
    "\n",
    "Since the cluster contains RTX 3000-series GPUs, you will need to install a patched version of pytorch:"
   ]
  },
  {
   "cell_type": "code",
   "execution_count": null,
   "metadata": {},
   "outputs": [],
   "source": [
    "%pip install torch torchvision --extra-index-url https://download.pytorch.org/whl/cu113"
   ]
  },
  {
   "attachments": {},
   "cell_type": "markdown",
   "metadata": {},
   "source": [
    "### (c) Google Colab\n",
    "\n",
    "If you don't have access to a GPU and don't want to use our cluster, you can also use Google Colab. However, we experienced the issue that inline visualization of shapes or inline images didn't work on colab, so just keep that in mind.\n",
    "What you can also do is only train networks on colab, download the checkpoint, and visualize inference locally.\n",
    "\n",
    "In case you're using Google Colab, you can upload the exercise folder (containing `exercise_2.ipynb`, directory `exercise_2` and the file `requirements.txt`) as `3d-machine-learning` to google drive (make sure you don't upload extracted datasets files).\n",
    "Additionally you'd need to open the notebook `exercise_2.ipynb` in Colab using `File > Open Notebook > Upload`.\n",
    "\n",
    "Next you'll need to run these two cells for setting up the environment. Before you do that make sure your instance has a GPU."
   ]
  },
  {
   "cell_type": "code",
   "execution_count": null,
   "metadata": {
    "pycharm": {
     "name": "#%%\n"
    }
   },
   "outputs": [],
   "source": [
    "import os\n",
    "from google.colab import drive\n",
    "drive.mount('/content/drive', force_remount=True)\n",
    "\n",
    "# We assume you uploaded the exercise folder in root Google Drive folder\n",
    "\n",
    "!cp -r /content/drive/MyDrive/3d-machine-learning 3d-machine-learning/\n",
    "os.chdir('/content/3d-machine-learning/')\n",
    "print('Installing requirements')\n",
    "%pip install -r requirements.txt\n",
    "\n",
    "# Make sure you restart runtime when directed by Colab"
   ]
  },
  {
   "attachments": {},
   "cell_type": "markdown",
   "metadata": {},
   "source": [
    "Run this cell after restarting your colab runtime"
   ]
  },
  {
   "cell_type": "code",
   "execution_count": null,
   "metadata": {
    "pycharm": {
     "name": "#%%\n"
    }
   },
   "outputs": [],
   "source": [
    "import os\n",
    "import sys\n",
    "import torch\n",
    "os.chdir('/content/3d-machine-learning/')\n",
    "sys.path.insert(1, \"/content/3d-machine-learning/\")\n",
    "print('CUDA availability:', torch.cuda.is_available())"
   ]
  },
  {
   "attachments": {},
   "cell_type": "markdown",
   "metadata": {},
   "source": [
    "---\n",
    "\n",
    "### Imports\n",
    "\n",
    "The following imports should work regardless of whether you are using Colab or local execution."
   ]
  },
  {
   "cell_type": "code",
   "execution_count": 1,
   "metadata": {},
   "outputs": [],
   "source": [
    "%load_ext autoreload\n",
    "%autoreload 2\n",
    "from pathlib import Path\n",
    "import numpy as np\n",
    "import matplotlib as plt\n",
    "import k3d\n",
    "import trimesh\n",
    "import torch"
   ]
  },
  {
   "attachments": {},
   "cell_type": "markdown",
   "metadata": {},
   "source": [
    "Use the next cell to test whether a GPU was detected by pytorch."
   ]
  },
  {
   "cell_type": "code",
   "execution_count": 2,
   "metadata": {},
   "outputs": [
    {
     "data": {
      "text/plain": [
       "True"
      ]
     },
     "execution_count": 2,
     "metadata": {},
     "output_type": "execute_result"
    }
   ],
   "source": [
    "torch.cuda.is_available()"
   ]
  },
  {
   "attachments": {},
   "cell_type": "markdown",
   "metadata": {},
   "source": [
    "## 2.1. ShapeNet Terms of Use\n",
    "\n",
    "We provide pre-processed shapes from the [ShapeNet](//shapenet.org) database for this exercise. ShapeNet is an ongoing effort to establish a richly-annotated, large-scale dataset of 3D shapes and is a collaborative effort between researchers at Princeton, Stanford and TTIC.\n",
    "\n",
    "<img src=\"exercise_2/images/shapenet.png\" alt=\"shapenet\" style=\"width: 512px;\"/>\n",
    "\n",
    "In order to be able to use the data, we ask you to read and agree to their Terms of Use as stated below (this is a requirement for passing this exercise):\n",
    "\n",
    "1. Researcher shall use the Database only for non-commercial research and educational purposes.\n",
    "2. Princeton University and Stanford University make no representations or warranties regarding the Database, including but not limited to warranties of non-infringement or fitness for a particular purpose.\n",
    "3. Researcher accepts full responsibility for his or her use of the Database and shall defend and indemnify Princeton University and Stanford University, including their employees, Trustees, officers and agents, against any and all claims arising from Researcher's use of the Database, including but not limited to Researcher's use of any copies of copyrighted 3D models that he or she may create from the Database.\n",
    "4. Researcher may provide research associates and colleagues with access to the Database provided that they first agree to be bound by these terms and conditions.\n",
    "5. Princeton University and Stanford University reserve the right to terminate Researcher's access to the Database at any time.\n",
    "6. If Researcher is employed by a for-profit, commercial entity, Researcher's employer shall also be bound by these terms and conditions, and Researcher hereby represents that he or she is fully authorized to enter into this agreement on behalf of such employer.\n",
    "7. The law of the State of New Jersey shall apply to all disputes under this agreement.\n",
    "\n",
    "To agree, simply type `I agree to the Terms of Use` in the next code cell."
   ]
  },
  {
   "cell_type": "code",
   "execution_count": 3,
   "metadata": {},
   "outputs": [],
   "source": [
    "# I agree to the Terms of Use"
   ]
  },
  {
   "attachments": {},
   "cell_type": "markdown",
   "metadata": {},
   "source": [
    "## 2.2. A simple 3D CNN with pytorch\n",
    "\n",
    "Here, we will create a very simple 3D Convolutional Neural Network on some toy data. This is meant as a quick introduction into the pytorch framework if you haven't used it yet. It will cover everything you need to know for the following parts of the exercise; if you want to go into a bit more detail about the framework, a good place to start is the official [pytorch quickstart tutorial](https://pytorch.org/tutorials/beginner/basics/quickstart_tutorial.html).\n",
    "\n",
    "A very useful resource if you want to know more about a certain class or function are the [official docs](https://pytorch.org/docs/stable/index.html). Take a minute to look at the documentation of a [Tensor](https://pytorch.org/docs/stable/tensors.html?highlight=tensor#torch.Tensor) which is the data structure pytorch uses throughout their APIs. It is comparable to a numpy array, with added functionality such as the ability to move seamlessly between cpu host memory and cuda device memory or the integrated autograd functionality for automatic differentiation. Most importantly, you can create a tensor from a numpy array with `torch.from_numpy(array)` and the other way around with `array = tensor.numpy()`.\n",
    "\n",
    "Our objective with this 3D CNN is to simply classify if a given SDF is containing a sphere or a torus. The data is generated the same way we did it in the last exercise (we randomize the shape parameters a bit so the task is not too trivial). Each such sample has a scalar label associated with it, either 0 or 1, depending on the shape it contains.\n",
    "\n",
    "All of the implementation in this part will take place in `exercise_2/simple_nn.py`. This makes sense for now but note that we would usually spread things over multiple different files like in the following exercise parts.\n",
    "\n",
    "The important bits we need for every training in pytorch are:\n",
    "1. The **dataset** implementation. This is a class responsible for providing the data used by the training procedure sample-by-sample. In its simplest form, it just loads data samples (eg. point clouds or voxel grids) from disk. However, it is usually also used to transform raw data from disk into the correct format and to apply various kinds of augmentations.\n",
    "2. The network definition (\"**model**\") that we want to train. It specifies the network structure (number and type of layers, activation functions, normalization layers etc.) as well as how exactly input data is processed.\n",
    "3. The **loss function**: For classification, this is usually a Cross Entropy Loss; we will also see reconstruction losses like l1 and l2 in exercise 3.\n",
    "4. The **optimizer**: Usually chosen from a set of pre-defined classes like SGD or ADAM.\n",
    "5. The **training loop**: For each batch of data, it does the following: Loads data from the dataloader, passes it through the model (\"forward pass\"), computes the loss, calculates the gradients (\"backward pass\"), and finally, adjusts the network weights using the optimizer.\n",
    "\n",
    "Let's walk through everything step-by-step:"
   ]
  },
  {
   "attachments": {},
   "cell_type": "markdown",
   "metadata": {},
   "source": [
    "### (a) Dataset\n",
    "\n",
    "We start by implementing the data source, which is called `Dataset` in pytorch. Take a look at the `SimpleDataset` class, it contains everything we have to implement to make it work:\n",
    "1. The `__init__` function that takes paramters and prepares the dataset by setting paths etc. Here, the one thing you always have to do is to load at least a list of samples you want to use - they don't have to be loaded from disk yet, but you need to know which and how many samples there are. This usually also depends on the current split - you use a different set of samples for training than for validation or testing.\n",
    "2. The `__len__` function that returns the total number of samples. In most cases, this will simply be the length of the list of samples you prepared in `__init__`.\n",
    "3. The `__getitem__` function. This is where the actual dataloading takes place. The function gets an index between 0 and the length you returned with `__len__`. Your job is then to return some data corresponding to the index. You do not need to worry about putting data onto the GPU here yet; instead, you load the data and return a tuple containing numpy arrays and other data like sample ids you might need in your training loop. Overall, you should take the index parameter in this function, find the sample id it belongs to, load that data, and then return it in a format that can be used in the training loop.\n",
    "\n",
    "Note that it is also fine to load all data into a list in the `__init__` function for small datasets like our toy dataset in this exercise part. You would then just index this pre-loaded data in your `__getitem__` function.\n",
    "\n",
    "Add and implement functions `__init__`, `__len__`, and `__getitem__` in class `SimpleDataset`. \n",
    "\n",
    "First, implement `__init__`: It takes a single parameter (called `split`) that determines if we are using train or val split at the moment. Based on that, it should generate toy data: 4096 samples if the split is train and 1024 if it is val. Use `generate_toy_data` from `exercise_2/util/toy_data.py` for this which generates two numpy arrays: The first one containing sphere and torus SDFs generated with randomized parameters and the second one classification labels, a 0 if the corresponding SDF in the first array is a sphere and 1 if it is a torus.\n",
    "\n",
    "Then, implement `__len__` by simply returning the length of the data you generated in `__init__`.\n",
    "\n",
    "Lastly, implement `__getitem__` which takes an integer index and returns a tuple: A numpy array containing the input SDF volume as generated by `generate_toy_data` before and a scalar value that represents the target class label for this volume.\n",
    "\n",
    "Note: You have to add an additional dimension of size 1 to the input volume you return in `__getitem__` to make everything work later on, i.e. instead of returning a numpy array of shape (32, 32, 32), you should return an array of shape (1, 32, 32, 32).\n",
    "\n",
    "Test your implementation with the checks below:"
   ]
  },
  {
   "cell_type": "code",
   "execution_count": 4,
   "metadata": {},
   "outputs": [
    {
     "name": "stdout",
     "output_type": "stream",
     "text": [
      "Generating toy data ...\n",
      "Generating toy data ...\n",
      "Length of train set: 4096\n",
      "Length of val set: 1024\n",
      "(1, 32, 32, 32)\n",
      "Class = 0\n",
      "(1, 32, 32, 32)\n",
      "Class = 1\n"
     ]
    }
   ],
   "source": [
    "from exercise_2.simple_nn import SimpleDataset\n",
    "\n",
    "# Create datasets with train and val splits\n",
    "train_dataset = SimpleDataset('train')\n",
    "val_dataset = SimpleDataset('val')\n",
    "\n",
    "# Test lengths\n",
    "print(f'Length of train set: {len(train_dataset)}')  # expected output: 4096\n",
    "print(f'Length of val set: {len(val_dataset)}')  # expected output: 1024\n",
    "\n",
    "# Get sample at index 0\n",
    "train_sample = train_dataset[0]\n",
    "print(train_sample[0].shape)  # Expected output (1, 32, 32, 32) (the leading 1 is important for later)\n",
    "print(f\"Class = {train_sample[1]}\")  # Expected output: Scalar value 0\n",
    "val_sample = val_dataset[-1]\n",
    "print(val_sample[0].shape)  # Expected output (1, 32, 32, 32) (the leading 1 is important for later)\n",
    "print(f\"Class = {val_sample[1]}\")  # Expected output: Scalar value 1"
   ]
  },
  {
   "cell_type": "code",
   "execution_count": 5,
   "metadata": {},
   "outputs": [
    {
     "name": "stdout",
     "output_type": "stream",
     "text": [
      "Creating SDF visualization for 32^3 grid ...\n",
      "Exported to c:\\Users\\emret\\Desktop\\E2\\toy_data.ply\n"
     ]
    }
   ],
   "source": [
    "from exercise_2.util.visualization import visualize_sdf\n",
    "\n",
    "train_sample = train_dataset[0]\n",
    "visualize_sdf(train_sample[0].squeeze(0), filename=Path.cwd() / 'toy_data.ply')"
   ]
  },
  {
   "attachments": {},
   "cell_type": "markdown",
   "metadata": {},
   "source": [
    "### (b) Model\n",
    "The model is defined in class `SimpleModel`. Two functions are important here: `__init__` which sets up the architecture by instantiating layers with the correct parameters and adapting them to possible input parameters and `forward` which takes an input tensor (we call it `x` here). The output of `forward` is another tensor that contains the result of the network - in our case, this is a vector of logits which will then be used for classification. It could also be a volume of labels if you do segmentation or a volume of the same size as the input if you do reconstruction.\n",
    "\n",
    "Analogous to `forward`, you could also define a custom `backward` function that describes how to calculate the gradients for your model. However, this is not necessary for most architectures as pytorch's autograd implementation takes care of all of that.\n",
    "\n",
    "For now, we will implement a very simple model: We stack together three 3D Convolution layers and have a fully connected layer at the end for classification. This is a schematic for the overall model structure:\n",
    "<img src=\"exercise_2/images/simplenn.png\" alt=\"simplenn_architecture\" style=\"width: 512px;\"/>\n",
    "\n",
    "Each layer starts with a 3d convolution, followed by a batch normalization layer and a ReLU activation function. We left the implementation of the first layer in there; your task is to fill out the missing parts in `__init__` for layers 2 and 3 (use the same parameters as for the first convolution: kernel size 4, stride 3, padding 1). Each convolution should double the number of feature channels, such that you get a volume of size 16 x 1 x 1 x 1 after layer 3. You also need to define the ReLU and the fully connected layer (for this, use `torch.nn.Linear` to reduce the number of dimensions from 16 to 2).\n",
    "\n",
    "In `forward`, you can repeat the first line to move the input tensor through all three convolutional layers. Then, reshape the resulting tensor to dimension batchsize x 16 (the batch size is always the first dimension) and apply the linear layer to it. Return the result as-is.\n",
    "\n",
    "Hint: The ease of debugging is one of the main reasons why pytorch is preferred in research over alternatives like tensorflow. You can set breakpoints in the `forward` function and watch as the input tensor gets modified by each layer to find bugs or things like wrongly calculated convolution parameters.\n",
    "\n",
    "Use the following sanity checks to verify your model:"
   ]
  },
  {
   "cell_type": "code",
   "execution_count": 6,
   "metadata": {},
   "outputs": [
    {
     "name": "stdout",
     "output_type": "stream",
     "text": [
      "  | Name   | Type        | Params\n",
      "---------------------------------------\n",
      "0 | conv1  | Conv3d      | 260   \n",
      "1 | bn1    | BatchNorm3d | 8     \n",
      "2 | conv2  | Conv3d      | 2056  \n",
      "3 | bn2    | BatchNorm3d | 16    \n",
      "4 | conv3  | Conv3d      | 8208  \n",
      "5 | bn3    | BatchNorm3d | 32    \n",
      "6 | linear | Linear      | 34    \n",
      "7 | relu   | ReLU        | 0     \n",
      "8 | TOTAL  | SimpleModel | 10614 \n",
      "Output tensor shape:  torch.Size([32, 2])\n"
     ]
    }
   ],
   "source": [
    "from exercise_2.simple_nn import SimpleModel\n",
    "from exercise_2.util.model import summarize_model\n",
    "\n",
    "simple_nn = SimpleModel()\n",
    "print(summarize_model(simple_nn))  # Expected: Rows 0-8 and TOTAL = 10614\n",
    "\n",
    "input_tensor = torch.randn(32, 1, 32, 32, 32)\n",
    "predictions = simple_nn(input_tensor)\n",
    "\n",
    "print('Output tensor shape: ', predictions.shape)  # Expected: torch.Size([32, 2])"
   ]
  },
  {
   "attachments": {},
   "cell_type": "markdown",
   "metadata": {},
   "source": [
    "### (c) Training"
   ]
  },
  {
   "attachments": {},
   "cell_type": "markdown",
   "metadata": {},
   "source": [
    "We already laid out most of the code structure you need to start training once you have your dataset and model defined. This code usually does not change much between projects; this is why there exist many different libraries to simplify it even more (you can take a look at pytorch lightning for example if you are interested). We will stick to the standard pytorch way of doing things for these exercises.\n",
    "\n",
    "The most important things left to do are:\n",
    "1. Define the data loaders. They take the samples you provide in your dataset implementation and take care of loading multiple samples in parallel, shuffling the dataset, and combining samples into batches.\n",
    "2. Define a loss function. For classification, this is usually `torch.nn.CrossEntropyLoss`\n",
    "3. Instantiate the optimizer. Mostly, this will be ADAM (`torch.optim.Adam`) unless you have a good reason to use another one.\n",
    "4. Implement the training loop: Get a batch of data from the data loader, move it to the GPU, perform a forward pass, compute the loss, calculate gradients in the backward pass, adjust weights in an optimizer step, repeat.\n",
    "\n",
    "Note: You have to move some stuff to the correct compute device (usually the GPU) by calling `.to(device)`: The model and loss function as well as the data you get from each batch.\n",
    "\n",
    "Take a look at the structure of `main` since you will also use it for the next exercise parts and fill in code in `train` at the blanks marked with TODO. Then, start the training below. For this exercise, we don't care too much about the results since it is a very easy classification task anyways. Your model should be able to get to > 98% validation accuracy, though. You can stop the training once that is the case."
   ]
  },
  {
   "cell_type": "code",
   "execution_count": 7,
   "metadata": {
    "scrolled": true
   },
   "outputs": [
    {
     "name": "stdout",
     "output_type": "stream",
     "text": [
      "Using device: cuda:0\n",
      "Generating toy data ...\n",
      "Generating toy data ...\n",
      "[000/00024] train_loss: 0.476\n",
      "[000/00049] train_loss: 0.306\n",
      "[000/00074] train_loss: 0.267\n",
      "[000/00099] train_loss: 0.211\n",
      "[000/00099] val_loss: 0.214, val_accuracy: 94.141%\n",
      "[000/00124] train_loss: 0.169\n",
      "[001/00021] train_loss: 0.136\n",
      "[001/00046] train_loss: 0.159\n",
      "[001/00071] train_loss: 0.135\n",
      "[001/00071] val_loss: 0.155, val_accuracy: 95.117%\n",
      "[001/00096] train_loss: 0.121\n",
      "[001/00121] train_loss: 0.110\n",
      "[002/00018] train_loss: 0.070\n",
      "[002/00043] train_loss: 0.081\n",
      "[002/00043] val_loss: 0.116, val_accuracy: 96.582%\n",
      "[002/00068] train_loss: 0.102\n",
      "[002/00093] train_loss: 0.116\n",
      "[002/00118] train_loss: 0.090\n",
      "[003/00015] train_loss: 0.085\n",
      "[003/00015] val_loss: 0.159, val_accuracy: 98.047%\n",
      "[003/00040] train_loss: 0.086\n",
      "[003/00065] train_loss: 0.074\n",
      "[003/00090] train_loss: 0.058\n",
      "[003/00115] train_loss: 0.083\n",
      "[003/00115] val_loss: 0.081, val_accuracy: 97.461%\n",
      "[004/00012] train_loss: 0.029\n",
      "[004/00037] train_loss: 0.089\n",
      "[004/00062] train_loss: 0.082\n",
      "[004/00087] train_loss: 0.065\n",
      "[004/00087] val_loss: 0.083, val_accuracy: 97.363%\n",
      "[004/00112] train_loss: 0.051\n",
      "[005/00009] train_loss: 0.010\n",
      "[005/00034] train_loss: 0.055\n",
      "[005/00059] train_loss: 0.049\n",
      "[005/00059] val_loss: 0.086, val_accuracy: 97.266%\n",
      "[005/00084] train_loss: 0.079\n",
      "[005/00109] train_loss: 0.058\n",
      "[006/00006] train_loss: 0.009\n",
      "[006/00031] train_loss: 0.048\n",
      "[006/00031] val_loss: 0.059, val_accuracy: 98.047%\n",
      "[006/00056] train_loss: 0.061\n",
      "[006/00081] train_loss: 0.081\n",
      "[006/00106] train_loss: 0.070\n",
      "[007/00003] train_loss: 0.007\n",
      "[007/00003] val_loss: 0.121, val_accuracy: 96.875%\n",
      "[007/00028] train_loss: 0.060\n",
      "[007/00053] train_loss: 0.061\n",
      "[007/00078] train_loss: 0.046\n",
      "[007/00103] train_loss: 0.040\n",
      "[007/00103] val_loss: 0.058, val_accuracy: 98.242%\n",
      "[008/00000] train_loss: 0.001\n",
      "[008/00025] train_loss: 0.051\n",
      "[008/00050] train_loss: 0.056\n",
      "[008/00075] train_loss: 0.038\n",
      "[008/00075] val_loss: 0.061, val_accuracy: 97.949%\n",
      "[008/00100] train_loss: 0.070\n",
      "[008/00125] train_loss: 0.038\n",
      "[009/00022] train_loss: 0.043\n",
      "[009/00047] train_loss: 0.062\n",
      "[009/00047] val_loss: 0.058, val_accuracy: 98.145%\n",
      "[009/00072] train_loss: 0.029\n",
      "[009/00097] train_loss: 0.071\n",
      "[009/00122] train_loss: 0.042\n",
      "[010/00019] train_loss: 0.040\n",
      "[010/00019] val_loss: 0.115, val_accuracy: 96.973%\n",
      "[010/00044] train_loss: 0.076\n",
      "[010/00069] train_loss: 0.054\n",
      "[010/00094] train_loss: 0.060\n",
      "[010/00119] train_loss: 0.056\n",
      "[010/00119] val_loss: 0.074, val_accuracy: 97.852%\n",
      "[011/00016] train_loss: 0.024\n",
      "[011/00041] train_loss: 0.054\n",
      "[011/00066] train_loss: 0.073\n",
      "[011/00091] train_loss: 0.056\n",
      "[011/00091] val_loss: 0.060, val_accuracy: 98.535%\n",
      "[011/00116] train_loss: 0.059\n",
      "[012/00013] train_loss: 0.022\n",
      "[012/00038] train_loss: 0.044\n",
      "[012/00063] train_loss: 0.069\n",
      "[012/00063] val_loss: 0.059, val_accuracy: 98.633%\n",
      "[012/00088] train_loss: 0.040\n",
      "[012/00113] train_loss: 0.041\n",
      "[013/00010] train_loss: 0.021\n",
      "[013/00035] train_loss: 0.053\n",
      "[013/00035] val_loss: 0.080, val_accuracy: 97.656%\n",
      "[013/00060] train_loss: 0.057\n",
      "[013/00085] train_loss: 0.050\n",
      "[013/00110] train_loss: 0.048\n",
      "[014/00007] train_loss: 0.030\n",
      "[014/00007] val_loss: 0.086, val_accuracy: 97.656%\n",
      "[014/00032] train_loss: 0.086\n",
      "[014/00057] train_loss: 0.027\n",
      "[014/00082] train_loss: 0.043\n",
      "[014/00107] train_loss: 0.037\n",
      "[014/00107] val_loss: 0.173, val_accuracy: 86.914%\n",
      "[015/00004] train_loss: 0.006\n",
      "[015/00029] train_loss: 0.118\n",
      "[015/00054] train_loss: 0.053\n",
      "[015/00079] train_loss: 0.049\n",
      "[015/00079] val_loss: 0.060, val_accuracy: 98.145%\n",
      "[015/00104] train_loss: 0.065\n",
      "[016/00001] train_loss: 0.003\n",
      "[016/00026] train_loss: 0.055\n",
      "[016/00051] train_loss: 0.047\n",
      "[016/00051] val_loss: 0.061, val_accuracy: 98.047%\n",
      "[016/00076] train_loss: 0.032\n",
      "[016/00101] train_loss: 0.065\n",
      "[016/00126] train_loss: 0.045\n",
      "[017/00023] train_loss: 0.044\n",
      "[017/00023] val_loss: 0.080, val_accuracy: 98.926%\n",
      "[017/00048] train_loss: 0.044\n",
      "[017/00073] train_loss: 0.034\n",
      "[017/00098] train_loss: 0.032\n",
      "[017/00123] train_loss: 0.053\n",
      "[017/00123] val_loss: 0.081, val_accuracy: 97.949%\n",
      "[018/00020] train_loss: 0.036\n",
      "[018/00045] train_loss: 0.050\n",
      "[018/00070] train_loss: 0.016\n",
      "[018/00095] train_loss: 0.043\n",
      "[018/00095] val_loss: 0.057, val_accuracy: 98.438%\n",
      "[018/00120] train_loss: 0.042\n",
      "[019/00017] train_loss: 0.028\n",
      "[019/00042] train_loss: 0.027\n",
      "[019/00067] train_loss: 0.034\n",
      "[019/00067] val_loss: 0.054, val_accuracy: 99.219%\n",
      "[019/00092] train_loss: 0.053\n",
      "[019/00117] train_loss: 0.066\n",
      "[020/00014] train_loss: 0.037\n",
      "[020/00039] train_loss: 0.039\n",
      "[020/00039] val_loss: 0.042, val_accuracy: 98.633%\n",
      "[020/00064] train_loss: 0.039\n",
      "[020/00089] train_loss: 0.021\n",
      "[020/00114] train_loss: 0.019\n",
      "[021/00011] train_loss: 0.014\n",
      "[021/00011] val_loss: 0.053, val_accuracy: 98.438%\n",
      "[021/00036] train_loss: 0.026\n",
      "[021/00061] train_loss: 0.048\n",
      "[021/00086] train_loss: 0.039\n",
      "[021/00111] train_loss: 0.028\n",
      "[021/00111] val_loss: 0.041, val_accuracy: 98.730%\n",
      "[022/00008] train_loss: 0.013\n",
      "[022/00033] train_loss: 0.024\n",
      "[022/00058] train_loss: 0.045\n",
      "[022/00083] train_loss: 0.055\n",
      "[022/00083] val_loss: 0.076, val_accuracy: 97.949%\n",
      "[022/00108] train_loss: 0.072\n",
      "[023/00005] train_loss: 0.012\n",
      "[023/00030] train_loss: 0.028\n",
      "[023/00055] train_loss: 0.060\n",
      "[023/00055] val_loss: 0.085, val_accuracy: 97.656%\n",
      "[023/00080] train_loss: 0.043\n",
      "[023/00105] train_loss: 0.038\n",
      "[024/00002] train_loss: 0.001\n",
      "[024/00027] train_loss: 0.043\n",
      "[024/00027] val_loss: 0.036, val_accuracy: 98.730%\n",
      "[024/00052] train_loss: 0.038\n",
      "[024/00077] train_loss: 0.031\n",
      "[024/00102] train_loss: 0.043\n",
      "[024/00127] train_loss: 0.024\n",
      "[024/00127] val_loss: 0.038, val_accuracy: 99.023%\n"
     ]
    }
   ],
   "source": [
    "from exercise_2 import simple_nn\n",
    "\n",
    "config={\n",
    "    'experiment_name': '2_2_simple_nn',\n",
    "    'device': 'cuda:0',  # change this to cpu if you do not have a GPU\n",
    "    'batch_size': 32,\n",
    "    'resume_ckpt': None,\n",
    "    'learning_rate': 0.001,\n",
    "    'max_epochs': 25,\n",
    "    'print_every_n': 25,\n",
    "    'validate_every_n': 100\n",
    "}\n",
    "\n",
    "simple_nn.main(config)  # should have val_accuracy > 99%"
   ]
  },
  {
   "attachments": {},
   "cell_type": "markdown",
   "metadata": {},
   "source": [
    "That's it! In the following parts, we will now move on to more complicated problems and more involved network models."
   ]
  },
  {
   "attachments": {},
   "cell_type": "markdown",
   "metadata": {},
   "source": [
    "## 2.3. Shape Classification using 3DCNN\n",
    "\n",
    "### (a) Download and extract voxelized ShapeNet training data"
   ]
  },
  {
   "attachments": {},
   "cell_type": "markdown",
   "metadata": {},
   "source": [
    "Each folder in the `exercise_2/data/ShapeNetVox32` directory represents a shape category represented by a number, e.g. `02691156`.\n",
    "We provide the mapping between these numbers and the corresponding names in `exercise_2/data/shape_info.json`. Each of these shape category folders contains a number of shapes\n",
    "represented as voxels and stored in a `binvox` format.\n",
    "\n",
    "```\n",
    "# contents of exercise_2/data/ShapeNetVox32\n",
    "\n",
    "02691156/                                   # Shape category folder with all it's shapes\n",
    "    ├── 1a04e3eab45ca15dd86060f189eb133/    # A single shape of the category\n",
    "        ├── model.binvox                    # Voxel representation of the shape in binvox format\n",
    "    ├── 1a6ad7a24bb89733f412783097373bdc/   # Another shape of the category\n",
    "    ├── 1a9b552befd6306cc8f2d5fe7449af61/\n",
    "    ├── :                                   # And so on ...\n",
    "    ├── :\n",
    "02828884/                                   # Another shape category folder\n",
    "02933112/                                   # In total you should have 13 shape category folders\n",
    ":\n",
    ":\n",
    "```"
   ]
  },
  {
   "cell_type": "code",
   "execution_count": null,
   "metadata": {},
   "outputs": [],
   "source": [
    "print('Downloading ...')\n",
    "!wget http://cvgl.stanford.edu/data2/ShapeNetVox32.tgz -P exercise_2/data\n",
    "print('Extracting ...')\n",
    "!tar -xzf exercise_2/data/ShapeNetVox32.tgz -C exercise_2/data\n",
    "!rm exercise_2/data/ShapeNetVox32.tgz\n",
    "print('Done.')"
   ]
  },
  {
   "attachments": {},
   "cell_type": "markdown",
   "metadata": {
    "pycharm": {
     "name": "#%% md\n"
    }
   },
   "source": [
    "### (b) Dataloading and exploring the data\n",
    "\n",
    "We already provide you with a training and validation split in files `train.txt` and `val.txt` in folder `exercise_2/data/splits/shapenet`.\n",
    "All the shapes in the list `train.txt` make up the training samples, while all the samples in `val.txt` constitute the validation set.\n",
    "Additionally, we provide `overfit.txt` as the set of shapes we'll use for overfitting / debugging later.\n",
    "\n",
    "Now let's write a Pytorch Dataset class that can load this data from the disk. Check out `ShapeNetVox` class in file `exercise_2/data/shapenet.py`\n",
    "for a partial implementation of such a dataset.\n",
    "\n",
    "The dataset class is instantiated with the type of the split, e.g. `train`, `val` or `overfit` and loads all\n",
    "shape names for that split as a list in its member variable `self.items`. The class also provides utility method `get_shape_voxels(shapenet_id)`\n",
    "which given a `shapenet_id` of the form `<shape_class>/<shape_identifier>` returns a 32x32x32 numpy array representing the voxels of the shape.\n",
    "The class also provides a list of all shape categories as the static member `ShapeNetVox.classes`.\n",
    "\n",
    "Your task is to fill out the missing implementations of functions `__getitem__` and `__len__` as specified by their docstrings.\n",
    "Once done, test your implementation below."
   ]
  },
  {
   "cell_type": "code",
   "execution_count": 8,
   "metadata": {
    "pycharm": {
     "name": "#%%\n"
    }
   },
   "outputs": [],
   "source": [
    "from exercise_2.data.shapenet import ShapeNetVox\n",
    "# Let's test your implementation"
   ]
  },
  {
   "cell_type": "code",
   "execution_count": 9,
   "metadata": {
    "pycharm": {
     "name": "#%%\n"
    }
   },
   "outputs": [
    {
     "name": "stdout",
     "output_type": "stream",
     "text": [
      "Length of train set: 21705\n"
     ]
    }
   ],
   "source": [
    "# Create a dataset with train split\n",
    "trainset = ShapeNetVox('train')\n",
    "\n",
    "# Get length, which is a call to __len__ function\n",
    "print(f'Length of train set: {len(trainset)}')  # expected output: 21705"
   ]
  },
  {
   "cell_type": "code",
   "execution_count": 10,
   "metadata": {
    "pycharm": {
     "name": "#%%\n"
    }
   },
   "outputs": [
    {
     "name": "stdout",
     "output_type": "stream",
     "text": [
      "Length of validation set: 5426\n"
     ]
    }
   ],
   "source": [
    "# Create a dataset with val split and print its length\n",
    "valset = ShapeNetVox('val')\n",
    "print(f'Length of validation set: {len(valset)}')  # expected output: 5426"
   ]
  },
  {
   "cell_type": "code",
   "execution_count": 11,
   "metadata": {
    "pycharm": {
     "name": "#%%\n"
    }
   },
   "outputs": [
    {
     "name": "stdout",
     "output_type": "stream",
     "text": [
      "Name: 04379243/d120d47f8c9bc5028640bc5712201c4a\n",
      "Voxel Dimensions: (1, 32, 32, 32)\n",
      "Label: 10 | 04379243\n"
     ]
    },
    {
     "data": {
      "application/vnd.jupyter.widget-view+json": {
       "model_id": "63216b4322ee40efbcae452628107bc3",
       "version_major": 2,
       "version_minor": 0
      },
      "text/plain": [
       "Output()"
      ]
     },
     "metadata": {},
     "output_type": "display_data"
    }
   ],
   "source": [
    "# Visualize some shapes\n",
    "from exercise_2.util.visualization import visualize_occupancy\n",
    "\n",
    "shape_data = trainset[0]\n",
    "print(f'Name: {shape_data[\"name\"]}')  # expected output: 04379243/d120d47f8c9bc5028640bc5712201c4a\n",
    "print(f'Voxel Dimensions: {shape_data[\"voxel\"].shape}')  # expected output: (1, 32, 32, 32)\n",
    "print(f'Label: {shape_data[\"label\"]} | {ShapeNetVox.classes[shape_data[\"label\"]]}')  # expected output: 10, 04379243\n",
    "\n",
    "visualize_occupancy(shape_data[\"voxel\"].squeeze(), flip_axes=True)"
   ]
  },
  {
   "cell_type": "code",
   "execution_count": 12,
   "metadata": {
    "pycharm": {
     "name": "#%%\n"
    }
   },
   "outputs": [
    {
     "name": "stdout",
     "output_type": "stream",
     "text": [
      "Name: 03211117/edfc3a8ecc5b07e9feb0fb1dff94c98a\n",
      "Voxel Dimensions: (1, 32, 32, 32)\n",
      "Label: 5 | 03211117\n"
     ]
    },
    {
     "data": {
      "application/vnd.jupyter.widget-view+json": {
       "model_id": "351cc68a50274cb3b9458a0f8a95b64c",
       "version_major": 2,
       "version_minor": 0
      },
      "text/plain": [
       "Output()"
      ]
     },
     "metadata": {},
     "output_type": "display_data"
    }
   ],
   "source": [
    "shape_data = trainset[7]\n",
    "print(f'Name: {shape_data[\"name\"]}')  # expected output: 03211117/edfc3a8ecc5b07e9feb0fb1dff94c98a\n",
    "print(f'Voxel Dimensions: {shape_data[\"voxel\"].shape}')  # expected output: (1, 32, 32, 32)\n",
    "print(f'Label: {shape_data[\"label\"]} | {ShapeNetVox.classes[shape_data[\"label\"]]}')  # expected output: 5, 03211117\n",
    "\n",
    "visualize_occupancy(shape_data[\"voxel\"].squeeze(), flip_axes=True)"
   ]
  },
  {
   "attachments": {},
   "cell_type": "markdown",
   "metadata": {
    "pycharm": {
     "name": "#%% md\n"
    }
   },
   "source": [
    "### (c) Defining the model\n",
    "\n",
    "We'll be using the 3DCNN model introduced by Qi et al.[1] to classify shapes. In particular, we'll be using\n",
    "the \"Auxiliary Training by Subvolume Supervision\" model presented in `Section 4.2` / `Fig. 3` of the paper.\n",
    "\n",
    "<img src=\"exercise_2/images/3dcnn.png\" alt=\"3dcnn_architecture\" style=\"width: 1024px;\"/>\n",
    "\n",
    "Fill in the model implementation of `MLPConv` and `ThreeDeeCNN`(which would use `MLPConv` layers) in the file `exercise_2/model/cnn3d.py`.\n",
    "Since the 3DCNN model predicts 9 labels for each samples (1 global + 8 local), we expect the output tensor to be of the shape `(B, 9, N_cls)` where `B` is the batch size, `N_cls` are number of classes (13 in our case).\n",
    "This means that the global and auxilary parts of the network output a score per class.\n",
    "\n",
    "Here are some basic sanity tests for your implemetation."
   ]
  },
  {
   "cell_type": "code",
   "execution_count": 13,
   "metadata": {
    "pycharm": {
     "name": "#%%\n"
    }
   },
   "outputs": [
    {
     "name": "stdout",
     "output_type": "stream",
     "text": [
      "   | Name                   | Type        | Params  \n",
      "----------------------------------------------------------\n",
      "0  | backbone               | Sequential  | 3764464 \n",
      "1  | backbone.0             | MLPConv     | 15120   \n",
      "2  | backbone.0.model       | Sequential  | 15120   \n",
      "3  | backbone.0.model.0     | Conv3d      | 10416   \n",
      "4  | backbone.0.model.1     | ReLU        | 0       \n",
      "5  | backbone.0.model.2     | Conv3d      | 2352    \n",
      "6  | backbone.0.model.3     | ReLU        | 0       \n",
      "7  | backbone.0.model.4     | Conv3d      | 2352    \n",
      "8  | backbone.0.model.5     | ReLU        | 0       \n",
      "9  | backbone.1             | MLPConv     | 1011680 \n",
      "10 | backbone.1.model       | Sequential  | 1011680 \n",
      "11 | backbone.1.model.0     | Conv3d      | 960160  \n",
      "12 | backbone.1.model.1     | ReLU        | 0       \n",
      "13 | backbone.1.model.2     | Conv3d      | 25760   \n",
      "14 | backbone.1.model.3     | ReLU        | 0       \n",
      "15 | backbone.1.model.4     | Conv3d      | 25760   \n",
      "16 | backbone.1.model.5     | ReLU        | 0       \n",
      "17 | backbone.2             | MLPConv     | 2737664 \n",
      "18 | backbone.2.model       | Sequential  | 2737664 \n",
      "19 | backbone.2.model.0     | Conv3d      | 2212352 \n",
      "20 | backbone.2.model.1     | ReLU        | 0       \n",
      "21 | backbone.2.model.2     | Conv3d      | 262656  \n",
      "22 | backbone.2.model.3     | ReLU        | 0       \n",
      "23 | backbone.2.model.4     | Conv3d      | 262656  \n",
      "24 | backbone.2.model.5     | ReLU        | 0       \n",
      "25 | partial_predictors     | ModuleList  | 168424  \n",
      "26 | partial_predictors.0   | Sequential  | 21053   \n",
      "27 | partial_predictors.0.0 | Linear      | 20520   \n",
      "28 | partial_predictors.0.1 | ReLU        | 0       \n",
      "29 | partial_predictors.0.2 | Dropout     | 0       \n",
      "30 | partial_predictors.0.3 | Linear      | 533     \n",
      "31 | partial_predictors.1   | Sequential  | 21053   \n",
      "32 | partial_predictors.1.0 | Linear      | 20520   \n",
      "33 | partial_predictors.1.1 | ReLU        | 0       \n",
      "34 | partial_predictors.1.2 | Dropout     | 0       \n",
      "35 | partial_predictors.1.3 | Linear      | 533     \n",
      "36 | partial_predictors.2   | Sequential  | 21053   \n",
      "37 | partial_predictors.2.0 | Linear      | 20520   \n",
      "38 | partial_predictors.2.1 | ReLU        | 0       \n",
      "39 | partial_predictors.2.2 | Dropout     | 0       \n",
      "40 | partial_predictors.2.3 | Linear      | 533     \n",
      "41 | partial_predictors.3   | Sequential  | 21053   \n",
      "42 | partial_predictors.3.0 | Linear      | 20520   \n",
      "43 | partial_predictors.3.1 | ReLU        | 0       \n",
      "44 | partial_predictors.3.2 | Dropout     | 0       \n",
      "45 | partial_predictors.3.3 | Linear      | 533     \n",
      "46 | partial_predictors.4   | Sequential  | 21053   \n",
      "47 | partial_predictors.4.0 | Linear      | 20520   \n",
      "48 | partial_predictors.4.1 | ReLU        | 0       \n",
      "49 | partial_predictors.4.2 | Dropout     | 0       \n",
      "50 | partial_predictors.4.3 | Linear      | 533     \n",
      "51 | partial_predictors.5   | Sequential  | 21053   \n",
      "52 | partial_predictors.5.0 | Linear      | 20520   \n",
      "53 | partial_predictors.5.1 | ReLU        | 0       \n",
      "54 | partial_predictors.5.2 | Dropout     | 0       \n",
      "55 | partial_predictors.5.3 | Linear      | 533     \n",
      "56 | partial_predictors.6   | Sequential  | 21053   \n",
      "57 | partial_predictors.6.0 | Linear      | 20520   \n",
      "58 | partial_predictors.6.1 | ReLU        | 0       \n",
      "59 | partial_predictors.6.2 | Dropout     | 0       \n",
      "60 | partial_predictors.6.3 | Linear      | 533     \n",
      "61 | partial_predictors.7   | Sequential  | 21053   \n",
      "62 | partial_predictors.7.0 | Linear      | 20520   \n",
      "63 | partial_predictors.7.1 | ReLU        | 0       \n",
      "64 | partial_predictors.7.2 | Dropout     | 0       \n",
      "65 | partial_predictors.7.3 | Linear      | 533     \n",
      "66 | full_predictor         | Sequential  | 12669501\n",
      "67 | full_predictor.0       | Linear      | 8390656 \n",
      "68 | full_predictor.1       | ReLU        | 0       \n",
      "69 | full_predictor.2       | Dropout     | 0       \n",
      "70 | full_predictor.3       | Linear      | 4196352 \n",
      "71 | full_predictor.4       | ReLU        | 0       \n",
      "72 | full_predictor.5       | Dropout     | 0       \n",
      "73 | full_predictor.6       | Linear      | 81960   \n",
      "74 | full_predictor.7       | ReLU        | 0       \n",
      "75 | full_predictor.8       | Linear      | 533     \n",
      "76 | TOTAL                  | ThreeDeeCNN | 16602389\n",
      "Output tensor shape:  torch.Size([8, 9, 13])\n",
      "Number of traininable params: 16.60M\n"
     ]
    }
   ],
   "source": [
    "from exercise_2.model.cnn3d import ThreeDeeCNN\n",
    "from exercise_2.util.model import summarize_model\n",
    "\n",
    "cnn3d = ThreeDeeCNN(13)\n",
    "print(summarize_model(cnn3d))  # Expected: Rows 0-40 and TOTAL = 16431461\n",
    "\n",
    "input_tensor = torch.randn(8, 1, 32, 32, 32)\n",
    "predictions = cnn3d(input_tensor)\n",
    "\n",
    "print('Output tensor shape: ', predictions.shape)  # expected output: 8, 9, 13\n",
    "\n",
    "num_trainable_params = sum(p.numel() for p in cnn3d.parameters() if p.requires_grad) / 1e6\n",
    "print(f'Number of traininable params: {num_trainable_params:.2f}M')  # expected output: ~16M"
   ]
  },
  {
   "attachments": {},
   "cell_type": "markdown",
   "metadata": {},
   "source": [
    "### (d) Training Script\n",
    "\n",
    "Now that we have the dataset class and the model class, we just need a training script\n",
    "that trains the model using data from train dataset and evaluates the model's validation\n",
    "performance during training. A partial script is provided in `exercise_2/training/train_3dcnn.py`.\n",
    "Fill in the missing blocks to make the training work."
   ]
  },
  {
   "attachments": {},
   "cell_type": "markdown",
   "metadata": {},
   "source": [
    "### (e) Overfitting to a few samples\n",
    "Before training on entire data, it is usually a good idea to try training on a small subset of data,\n",
    "to see if your model can do forward and backward passes without any errors, your metrics work, and that you model can\n",
    "overfit with a very low error on this small set."
   ]
  },
  {
   "cell_type": "code",
   "execution_count": 14,
   "metadata": {
    "pycharm": {
     "name": "#%%\n"
    }
   },
   "outputs": [
    {
     "name": "stdout",
     "output_type": "stream",
     "text": [
      "Using device: cuda:0\n"
     ]
    },
    {
     "ename": "KeyboardInterrupt",
     "evalue": "",
     "output_type": "error",
     "traceback": [
      "\u001b[1;31m---------------------------------------------------------------------------\u001b[0m",
      "\u001b[1;31mKeyboardInterrupt\u001b[0m                         Traceback (most recent call last)",
      "Cell \u001b[1;32mIn[14], line 14\u001b[0m\n\u001b[0;32m      1\u001b[0m \u001b[39mfrom\u001b[39;00m \u001b[39mexercise_2\u001b[39;00m\u001b[39m.\u001b[39;00m\u001b[39mtraining\u001b[39;00m \u001b[39mimport\u001b[39;00m train_3dcnn\n\u001b[0;32m      2\u001b[0m config \u001b[39m=\u001b[39m {\n\u001b[0;32m      3\u001b[0m     \u001b[39m'\u001b[39m\u001b[39mexperiment_name\u001b[39m\u001b[39m'\u001b[39m: \u001b[39m'\u001b[39m\u001b[39m2_3_3dcnn_overfitting\u001b[39m\u001b[39m'\u001b[39m,\n\u001b[0;32m      4\u001b[0m     \u001b[39m'\u001b[39m\u001b[39mdevice\u001b[39m\u001b[39m'\u001b[39m: \u001b[39m'\u001b[39m\u001b[39mcuda:0\u001b[39m\u001b[39m'\u001b[39m,                      \u001b[39m# change this to cpu if you do not have a GPU\u001b[39;00m\n\u001b[1;32m   (...)\u001b[0m\n\u001b[0;32m     11\u001b[0m     \u001b[39m'\u001b[39m\u001b[39mvalidate_every_n\u001b[39m\u001b[39m'\u001b[39m: \u001b[39m10\u001b[39m,\n\u001b[0;32m     12\u001b[0m }\n\u001b[1;32m---> 14\u001b[0m train_3dcnn\u001b[39m.\u001b[39;49mmain(config)  \u001b[39m# should be able to get ~0 loss, 100% accuracy\u001b[39;00m\n",
      "File \u001b[1;32mc:\\Users\\emret\\Desktop\\E2\\exercise_2\\training\\train_3dcnn.py:56\u001b[0m, in \u001b[0;36mmain\u001b[1;34m(config)\u001b[0m\n\u001b[0;32m     53\u001b[0m Path(\u001b[39mf\u001b[39m\u001b[39m'\u001b[39m\u001b[39mexercise_2/runs/\u001b[39m\u001b[39m{\u001b[39;00mconfig[\u001b[39m\"\u001b[39m\u001b[39mexperiment_name\u001b[39m\u001b[39m\"\u001b[39m]\u001b[39m}\u001b[39;00m\u001b[39m'\u001b[39m)\u001b[39m.\u001b[39mmkdir(exist_ok\u001b[39m=\u001b[39m\u001b[39mTrue\u001b[39;00m, parents\u001b[39m=\u001b[39m\u001b[39mTrue\u001b[39;00m)\n\u001b[0;32m     55\u001b[0m \u001b[39m# start training\u001b[39;00m\n\u001b[1;32m---> 56\u001b[0m train(model, trainloader, valloader, device, config)\n",
      "File \u001b[1;32mc:\\Users\\emret\\Desktop\\E2\\exercise_2\\training\\train_3dcnn.py:78\u001b[0m, in \u001b[0;36mtrain\u001b[1;34m(model, trainloader, valloader, device, config)\u001b[0m\n\u001b[0;32m     75\u001b[0m train_loss_running \u001b[39m=\u001b[39m \u001b[39m0.\u001b[39m\n\u001b[0;32m     77\u001b[0m \u001b[39mfor\u001b[39;00m epoch \u001b[39min\u001b[39;00m \u001b[39mrange\u001b[39m(config[\u001b[39m'\u001b[39m\u001b[39mmax_epochs\u001b[39m\u001b[39m'\u001b[39m]):\n\u001b[1;32m---> 78\u001b[0m     \u001b[39mfor\u001b[39;00m i, batch \u001b[39min\u001b[39;00m \u001b[39menumerate\u001b[39m(trainloader):\n\u001b[0;32m     79\u001b[0m         \u001b[39m# move batch to device\u001b[39;00m\n\u001b[0;32m     80\u001b[0m         ShapeNetVox\u001b[39m.\u001b[39mmove_batch_to_device(batch, device)\n\u001b[0;32m     82\u001b[0m         optimizer\u001b[39m.\u001b[39mzero_grad()\n",
      "File \u001b[1;32m~\\AppData\\Local\\Packages\\PythonSoftwareFoundation.Python.3.11_qbz5n2kfra8p0\\LocalCache\\local-packages\\Python311\\site-packages\\torch\\utils\\data\\dataloader.py:633\u001b[0m, in \u001b[0;36m_BaseDataLoaderIter.__next__\u001b[1;34m(self)\u001b[0m\n\u001b[0;32m    630\u001b[0m \u001b[39mif\u001b[39;00m \u001b[39mself\u001b[39m\u001b[39m.\u001b[39m_sampler_iter \u001b[39mis\u001b[39;00m \u001b[39mNone\u001b[39;00m:\n\u001b[0;32m    631\u001b[0m     \u001b[39m# TODO(https://github.com/pytorch/pytorch/issues/76750)\u001b[39;00m\n\u001b[0;32m    632\u001b[0m     \u001b[39mself\u001b[39m\u001b[39m.\u001b[39m_reset()  \u001b[39m# type: ignore[call-arg]\u001b[39;00m\n\u001b[1;32m--> 633\u001b[0m data \u001b[39m=\u001b[39m \u001b[39mself\u001b[39;49m\u001b[39m.\u001b[39;49m_next_data()\n\u001b[0;32m    634\u001b[0m \u001b[39mself\u001b[39m\u001b[39m.\u001b[39m_num_yielded \u001b[39m+\u001b[39m\u001b[39m=\u001b[39m \u001b[39m1\u001b[39m\n\u001b[0;32m    635\u001b[0m \u001b[39mif\u001b[39;00m \u001b[39mself\u001b[39m\u001b[39m.\u001b[39m_dataset_kind \u001b[39m==\u001b[39m _DatasetKind\u001b[39m.\u001b[39mIterable \u001b[39mand\u001b[39;00m \\\n\u001b[0;32m    636\u001b[0m         \u001b[39mself\u001b[39m\u001b[39m.\u001b[39m_IterableDataset_len_called \u001b[39mis\u001b[39;00m \u001b[39mnot\u001b[39;00m \u001b[39mNone\u001b[39;00m \u001b[39mand\u001b[39;00m \\\n\u001b[0;32m    637\u001b[0m         \u001b[39mself\u001b[39m\u001b[39m.\u001b[39m_num_yielded \u001b[39m>\u001b[39m \u001b[39mself\u001b[39m\u001b[39m.\u001b[39m_IterableDataset_len_called:\n",
      "File \u001b[1;32m~\\AppData\\Local\\Packages\\PythonSoftwareFoundation.Python.3.11_qbz5n2kfra8p0\\LocalCache\\local-packages\\Python311\\site-packages\\torch\\utils\\data\\dataloader.py:1328\u001b[0m, in \u001b[0;36m_MultiProcessingDataLoaderIter._next_data\u001b[1;34m(self)\u001b[0m\n\u001b[0;32m   1325\u001b[0m     \u001b[39mreturn\u001b[39;00m \u001b[39mself\u001b[39m\u001b[39m.\u001b[39m_process_data(data)\n\u001b[0;32m   1327\u001b[0m \u001b[39massert\u001b[39;00m \u001b[39mnot\u001b[39;00m \u001b[39mself\u001b[39m\u001b[39m.\u001b[39m_shutdown \u001b[39mand\u001b[39;00m \u001b[39mself\u001b[39m\u001b[39m.\u001b[39m_tasks_outstanding \u001b[39m>\u001b[39m \u001b[39m0\u001b[39m\n\u001b[1;32m-> 1328\u001b[0m idx, data \u001b[39m=\u001b[39m \u001b[39mself\u001b[39;49m\u001b[39m.\u001b[39;49m_get_data()\n\u001b[0;32m   1329\u001b[0m \u001b[39mself\u001b[39m\u001b[39m.\u001b[39m_tasks_outstanding \u001b[39m-\u001b[39m\u001b[39m=\u001b[39m \u001b[39m1\u001b[39m\n\u001b[0;32m   1330\u001b[0m \u001b[39mif\u001b[39;00m \u001b[39mself\u001b[39m\u001b[39m.\u001b[39m_dataset_kind \u001b[39m==\u001b[39m _DatasetKind\u001b[39m.\u001b[39mIterable:\n\u001b[0;32m   1331\u001b[0m     \u001b[39m# Check for _IterableDatasetStopIteration\u001b[39;00m\n",
      "File \u001b[1;32m~\\AppData\\Local\\Packages\\PythonSoftwareFoundation.Python.3.11_qbz5n2kfra8p0\\LocalCache\\local-packages\\Python311\\site-packages\\torch\\utils\\data\\dataloader.py:1294\u001b[0m, in \u001b[0;36m_MultiProcessingDataLoaderIter._get_data\u001b[1;34m(self)\u001b[0m\n\u001b[0;32m   1290\u001b[0m     \u001b[39m# In this case, `self._data_queue` is a `queue.Queue`,. But we don't\u001b[39;00m\n\u001b[0;32m   1291\u001b[0m     \u001b[39m# need to call `.task_done()` because we don't use `.join()`.\u001b[39;00m\n\u001b[0;32m   1292\u001b[0m \u001b[39melse\u001b[39;00m:\n\u001b[0;32m   1293\u001b[0m     \u001b[39mwhile\u001b[39;00m \u001b[39mTrue\u001b[39;00m:\n\u001b[1;32m-> 1294\u001b[0m         success, data \u001b[39m=\u001b[39m \u001b[39mself\u001b[39;49m\u001b[39m.\u001b[39;49m_try_get_data()\n\u001b[0;32m   1295\u001b[0m         \u001b[39mif\u001b[39;00m success:\n\u001b[0;32m   1296\u001b[0m             \u001b[39mreturn\u001b[39;00m data\n",
      "File \u001b[1;32m~\\AppData\\Local\\Packages\\PythonSoftwareFoundation.Python.3.11_qbz5n2kfra8p0\\LocalCache\\local-packages\\Python311\\site-packages\\torch\\utils\\data\\dataloader.py:1132\u001b[0m, in \u001b[0;36m_MultiProcessingDataLoaderIter._try_get_data\u001b[1;34m(self, timeout)\u001b[0m\n\u001b[0;32m   1119\u001b[0m \u001b[39mdef\u001b[39;00m \u001b[39m_try_get_data\u001b[39m(\u001b[39mself\u001b[39m, timeout\u001b[39m=\u001b[39m_utils\u001b[39m.\u001b[39mMP_STATUS_CHECK_INTERVAL):\n\u001b[0;32m   1120\u001b[0m     \u001b[39m# Tries to fetch data from `self._data_queue` once for a given timeout.\u001b[39;00m\n\u001b[0;32m   1121\u001b[0m     \u001b[39m# This can also be used as inner loop of fetching without timeout, with\u001b[39;00m\n\u001b[1;32m   (...)\u001b[0m\n\u001b[0;32m   1129\u001b[0m     \u001b[39m# Returns a 2-tuple:\u001b[39;00m\n\u001b[0;32m   1130\u001b[0m     \u001b[39m#   (bool: whether successfully get data, any: data if successful else None)\u001b[39;00m\n\u001b[0;32m   1131\u001b[0m     \u001b[39mtry\u001b[39;00m:\n\u001b[1;32m-> 1132\u001b[0m         data \u001b[39m=\u001b[39m \u001b[39mself\u001b[39;49m\u001b[39m.\u001b[39;49m_data_queue\u001b[39m.\u001b[39;49mget(timeout\u001b[39m=\u001b[39;49mtimeout)\n\u001b[0;32m   1133\u001b[0m         \u001b[39mreturn\u001b[39;00m (\u001b[39mTrue\u001b[39;00m, data)\n\u001b[0;32m   1134\u001b[0m     \u001b[39mexcept\u001b[39;00m \u001b[39mException\u001b[39;00m \u001b[39mas\u001b[39;00m e:\n\u001b[0;32m   1135\u001b[0m         \u001b[39m# At timeout and error, we manually check whether any worker has\u001b[39;00m\n\u001b[0;32m   1136\u001b[0m         \u001b[39m# failed. Note that this is the only mechanism for Windows to detect\u001b[39;00m\n\u001b[0;32m   1137\u001b[0m         \u001b[39m# worker failures.\u001b[39;00m\n",
      "File \u001b[1;32mC:\\Program Files\\WindowsApps\\PythonSoftwareFoundation.Python.3.11_3.11.1008.0_x64__qbz5n2kfra8p0\\Lib\\multiprocessing\\queues.py:113\u001b[0m, in \u001b[0;36mQueue.get\u001b[1;34m(self, block, timeout)\u001b[0m\n\u001b[0;32m    111\u001b[0m \u001b[39mif\u001b[39;00m block:\n\u001b[0;32m    112\u001b[0m     timeout \u001b[39m=\u001b[39m deadline \u001b[39m-\u001b[39m time\u001b[39m.\u001b[39mmonotonic()\n\u001b[1;32m--> 113\u001b[0m     \u001b[39mif\u001b[39;00m \u001b[39mnot\u001b[39;00m \u001b[39mself\u001b[39;49m\u001b[39m.\u001b[39;49m_poll(timeout):\n\u001b[0;32m    114\u001b[0m         \u001b[39mraise\u001b[39;00m Empty\n\u001b[0;32m    115\u001b[0m \u001b[39melif\u001b[39;00m \u001b[39mnot\u001b[39;00m \u001b[39mself\u001b[39m\u001b[39m.\u001b[39m_poll():\n",
      "File \u001b[1;32mC:\\Program Files\\WindowsApps\\PythonSoftwareFoundation.Python.3.11_3.11.1008.0_x64__qbz5n2kfra8p0\\Lib\\multiprocessing\\connection.py:256\u001b[0m, in \u001b[0;36m_ConnectionBase.poll\u001b[1;34m(self, timeout)\u001b[0m\n\u001b[0;32m    254\u001b[0m \u001b[39mself\u001b[39m\u001b[39m.\u001b[39m_check_closed()\n\u001b[0;32m    255\u001b[0m \u001b[39mself\u001b[39m\u001b[39m.\u001b[39m_check_readable()\n\u001b[1;32m--> 256\u001b[0m \u001b[39mreturn\u001b[39;00m \u001b[39mself\u001b[39;49m\u001b[39m.\u001b[39;49m_poll(timeout)\n",
      "File \u001b[1;32mC:\\Program Files\\WindowsApps\\PythonSoftwareFoundation.Python.3.11_3.11.1008.0_x64__qbz5n2kfra8p0\\Lib\\multiprocessing\\connection.py:329\u001b[0m, in \u001b[0;36mPipeConnection._poll\u001b[1;34m(self, timeout)\u001b[0m\n\u001b[0;32m    326\u001b[0m \u001b[39mif\u001b[39;00m (\u001b[39mself\u001b[39m\u001b[39m.\u001b[39m_got_empty_message \u001b[39mor\u001b[39;00m\n\u001b[0;32m    327\u001b[0m             _winapi\u001b[39m.\u001b[39mPeekNamedPipe(\u001b[39mself\u001b[39m\u001b[39m.\u001b[39m_handle)[\u001b[39m0\u001b[39m] \u001b[39m!=\u001b[39m \u001b[39m0\u001b[39m):\n\u001b[0;32m    328\u001b[0m     \u001b[39mreturn\u001b[39;00m \u001b[39mTrue\u001b[39;00m\n\u001b[1;32m--> 329\u001b[0m \u001b[39mreturn\u001b[39;00m \u001b[39mbool\u001b[39m(wait([\u001b[39mself\u001b[39;49m], timeout))\n",
      "File \u001b[1;32mC:\\Program Files\\WindowsApps\\PythonSoftwareFoundation.Python.3.11_3.11.1008.0_x64__qbz5n2kfra8p0\\Lib\\multiprocessing\\connection.py:878\u001b[0m, in \u001b[0;36mwait\u001b[1;34m(object_list, timeout)\u001b[0m\n\u001b[0;32m    875\u001b[0m                 ready_objects\u001b[39m.\u001b[39madd(o)\n\u001b[0;32m    876\u001b[0m                 timeout \u001b[39m=\u001b[39m \u001b[39m0\u001b[39m\n\u001b[1;32m--> 878\u001b[0m     ready_handles \u001b[39m=\u001b[39m _exhaustive_wait(waithandle_to_obj\u001b[39m.\u001b[39;49mkeys(), timeout)\n\u001b[0;32m    879\u001b[0m \u001b[39mfinally\u001b[39;00m:\n\u001b[0;32m    880\u001b[0m     \u001b[39m# request that overlapped reads stop\u001b[39;00m\n\u001b[0;32m    881\u001b[0m     \u001b[39mfor\u001b[39;00m ov \u001b[39min\u001b[39;00m ov_list:\n",
      "File \u001b[1;32mC:\\Program Files\\WindowsApps\\PythonSoftwareFoundation.Python.3.11_3.11.1008.0_x64__qbz5n2kfra8p0\\Lib\\multiprocessing\\connection.py:810\u001b[0m, in \u001b[0;36m_exhaustive_wait\u001b[1;34m(handles, timeout)\u001b[0m\n\u001b[0;32m    808\u001b[0m ready \u001b[39m=\u001b[39m []\n\u001b[0;32m    809\u001b[0m \u001b[39mwhile\u001b[39;00m L:\n\u001b[1;32m--> 810\u001b[0m     res \u001b[39m=\u001b[39m _winapi\u001b[39m.\u001b[39mWaitForMultipleObjects(L, \u001b[39mFalse\u001b[39;00m, timeout)\n\u001b[0;32m    811\u001b[0m     \u001b[39mif\u001b[39;00m res \u001b[39m==\u001b[39m WAIT_TIMEOUT:\n\u001b[0;32m    812\u001b[0m         \u001b[39mbreak\u001b[39;00m\n",
      "\u001b[1;31mKeyboardInterrupt\u001b[0m: "
     ]
    }
   ],
   "source": [
    "from exercise_2.training import train_3dcnn\n",
    "config = {\n",
    "    'experiment_name': '2_3_3dcnn_overfitting',\n",
    "    'device': 'cuda:0',                      # change this to cpu if you do not have a GPU\n",
    "    'is_overfit': True,                      # True since we're doing overfitting\n",
    "    'batch_size': 16,\n",
    "    'resume_ckpt': None,\n",
    "    'learning_rate': 0.001,\n",
    "    'max_epochs': 50,\n",
    "    'print_every_n': 10,\n",
    "    'validate_every_n': 10,\n",
    "}\n",
    "\n",
    "train_3dcnn.main(config)  # should be able to get ~0 loss, 100% accuracy"
   ]
  },
  {
   "attachments": {},
   "cell_type": "markdown",
   "metadata": {
    "pycharm": {
     "name": "#%% md\n"
    }
   },
   "source": [
    "### (f) Training over the entire training set\n",
    "If the overfitting works, we can go ahead with training on the entire dataset."
   ]
  },
  {
   "cell_type": "code",
   "execution_count": 15,
   "metadata": {
    "pycharm": {
     "name": "#%%\n"
    }
   },
   "outputs": [
    {
     "name": "stdout",
     "output_type": "stream",
     "text": [
      "Using device: cuda:0\n",
      "[000/00099] train_loss: 21.825\n",
      "[000/00199] train_loss: 19.057\n",
      "[000/00249] val_loss: 14.732, val_accuracy: 55.898%\n",
      "[000/00299] train_loss: 16.176\n",
      "[000/00399] train_loss: 12.867\n",
      "[000/00499] train_loss: 11.825\n",
      "[000/00499] val_loss: 9.145, val_accuracy: 73.940%\n",
      "[000/00599] train_loss: 10.193\n",
      "[000/00699] train_loss: 9.289\n",
      "[000/00749] val_loss: 6.940, val_accuracy: 78.050%\n",
      "[000/00799] train_loss: 9.015\n",
      "[000/00899] train_loss: 7.966\n",
      "[000/00999] train_loss: 7.258\n",
      "[000/00999] val_loss: 5.746, val_accuracy: 83.727%\n",
      "[000/01099] train_loss: 6.802\n",
      "[000/01199] train_loss: 6.786\n",
      "[000/01249] val_loss: 4.885, val_accuracy: 87.634%\n",
      "[000/01299] train_loss: 6.561\n",
      "[001/00042] train_loss: 6.085\n",
      "[001/00142] train_loss: 5.938\n",
      "[001/00142] val_loss: 4.395, val_accuracy: 87.855%\n",
      "[001/00242] train_loss: 5.501\n",
      "[001/00342] train_loss: 5.944\n",
      "[001/00392] val_loss: 3.990, val_accuracy: 89.163%\n",
      "[001/00442] train_loss: 5.069\n",
      "[001/00542] train_loss: 4.861\n",
      "[001/00642] train_loss: 5.222\n",
      "[001/00642] val_loss: 3.917, val_accuracy: 89.071%\n",
      "[001/00742] train_loss: 5.155\n",
      "[001/00842] train_loss: 5.067\n",
      "[001/00892] val_loss: 3.745, val_accuracy: 89.919%\n",
      "[001/00942] train_loss: 4.963\n",
      "[001/01042] train_loss: 4.905\n",
      "[001/01142] train_loss: 4.612\n",
      "[001/01142] val_loss: 3.654, val_accuracy: 90.453%\n",
      "[001/01242] train_loss: 4.980\n",
      "[001/01342] train_loss: 4.859\n",
      "[002/00035] val_loss: 3.543, val_accuracy: 90.564%\n",
      "[002/00085] train_loss: 4.704\n",
      "[002/00185] train_loss: 4.245\n",
      "[002/00285] train_loss: 4.917\n",
      "[002/00285] val_loss: 3.634, val_accuracy: 90.269%\n",
      "[002/00385] train_loss: 4.272\n",
      "[002/00485] train_loss: 4.064\n",
      "[002/00535] val_loss: 3.425, val_accuracy: 90.693%\n",
      "[002/00585] train_loss: 4.054\n",
      "[002/00685] train_loss: 4.397\n",
      "[002/00785] train_loss: 4.032\n",
      "[002/00785] val_loss: 3.644, val_accuracy: 89.882%\n",
      "[002/00885] train_loss: 4.199\n",
      "[002/00985] train_loss: 4.200\n",
      "[002/01035] val_loss: 3.332, val_accuracy: 90.638%\n",
      "[002/01085] train_loss: 4.386\n",
      "[002/01185] train_loss: 3.884\n",
      "[002/01285] train_loss: 4.066\n",
      "[002/01285] val_loss: 3.464, val_accuracy: 90.933%\n",
      "[003/00028] train_loss: 4.187\n",
      "[003/00128] train_loss: 3.774\n",
      "[003/00178] val_loss: 3.653, val_accuracy: 90.269%\n",
      "[003/00228] train_loss: 3.911\n",
      "[003/00328] train_loss: 4.170\n",
      "[003/00428] train_loss: 3.858\n",
      "[003/00428] val_loss: 3.398, val_accuracy: 90.988%\n",
      "[003/00528] train_loss: 4.057\n",
      "[003/00628] train_loss: 3.743\n",
      "[003/00678] val_loss: 3.293, val_accuracy: 91.154%\n",
      "[003/00728] train_loss: 3.737\n",
      "[003/00828] train_loss: 3.746\n",
      "[003/00928] train_loss: 4.133\n",
      "[003/00928] val_loss: 3.078, val_accuracy: 91.633%\n",
      "[003/01028] train_loss: 3.627\n",
      "[003/01128] train_loss: 3.648\n",
      "[003/01178] val_loss: 3.156, val_accuracy: 91.651%\n",
      "[003/01228] train_loss: 3.389\n",
      "[003/01328] train_loss: 3.672\n",
      "[004/00071] train_loss: 3.438\n",
      "[004/00071] val_loss: 3.140, val_accuracy: 91.983%\n",
      "[004/00171] train_loss: 3.290\n",
      "[004/00271] train_loss: 3.623\n",
      "[004/00321] val_loss: 3.106, val_accuracy: 91.725%\n",
      "[004/00371] train_loss: 3.625\n",
      "[004/00471] train_loss: 3.374\n",
      "[004/00571] train_loss: 3.396\n",
      "[004/00571] val_loss: 3.163, val_accuracy: 91.946%\n",
      "[004/00671] train_loss: 3.274\n",
      "[004/00771] train_loss: 2.891\n",
      "[004/00821] val_loss: 3.021, val_accuracy: 91.854%\n",
      "[004/00871] train_loss: 3.398\n",
      "[004/00971] train_loss: 3.654\n",
      "[004/01071] train_loss: 3.344\n",
      "[004/01071] val_loss: 3.212, val_accuracy: 91.356%\n",
      "[004/01171] train_loss: 3.617\n",
      "[004/01271] train_loss: 3.168\n",
      "[004/01321] val_loss: 3.056, val_accuracy: 91.430%\n"
     ]
    }
   ],
   "source": [
    "config = {\n",
    "    'experiment_name': '2_3_3dcnn_generalization',\n",
    "    'device': 'cuda:0',                     # change this to cpu if you do not have a GPU\n",
    "    'is_overfit': False,\n",
    "    'batch_size': 16,\n",
    "    'resume_ckpt': None,\n",
    "    'learning_rate': 0.0005,\n",
    "    'max_epochs': 5,\n",
    "    'print_every_n': 100,\n",
    "    'validate_every_n': 250,\n",
    "}\n",
    "\n",
    "train_3dcnn.main(config)                    # should have accuracy > 88% on val set"
   ]
  },
  {
   "attachments": {},
   "cell_type": "markdown",
   "metadata": {},
   "source": [
    "### (g) Inference using the trained model\n",
    "\n",
    "We would now like to make shape category inference given shapes from validation set.\n",
    "Implement the function `infer_single` of class `InferenceHandler3DCNN` in file `exercise_2/inference/infer_3dcnn.py` such that it returns the\n",
    "shape category name predicted by the model given its numpy voxel representation (32x32x32). Note that the network predicts a label in range [0, 12],\n",
    "which can be mapped to a class ID (e.g. 03001627) using `ShapeNetVox.classes` which can further be mapped to a category name (e.g. chair for 03001627) using\n",
    "`ShapeNetVox.class_name_mapping`."
   ]
  },
  {
   "cell_type": "code",
   "execution_count": 16,
   "metadata": {
    "pycharm": {
     "name": "#%%\n"
    }
   },
   "outputs": [],
   "source": [
    "from exercise_2.inference.infer_3dcnn import InferenceHandler3DCNN\n",
    "\n",
    "# create a handler for inference using a trained checkpoint\n",
    "inferer = InferenceHandler3DCNN('exercise_2/runs/2_3_3dcnn_generalization/model_best.ckpt')"
   ]
  },
  {
   "cell_type": "code",
   "execution_count": 17,
   "metadata": {
    "pycharm": {
     "name": "#%%\n"
    }
   },
   "outputs": [
    {
     "data": {
      "application/vnd.jupyter.widget-view+json": {
       "model_id": "8d45662a968a481099f2071a8730b54d",
       "version_major": 2,
       "version_minor": 0
      },
      "text/plain": [
       "Output()"
      ]
     },
     "metadata": {},
     "output_type": "display_data"
    }
   ],
   "source": [
    "# get shape voxels and visualize\n",
    "shape_voxels = ShapeNetVox.get_shape_voxels('03001627/f913501826c588e89753496ba23f2183')\n",
    "visualize_occupancy(shape_voxels, flip_axes=True)"
   ]
  },
  {
   "cell_type": "code",
   "execution_count": 18,
   "metadata": {
    "pycharm": {
     "name": "#%%\n"
    }
   },
   "outputs": [
    {
     "name": "stdout",
     "output_type": "stream",
     "text": [
      "Predicted category: chair\n"
     ]
    }
   ],
   "source": [
    "# predict category\n",
    "print('Predicted category:', inferer.infer_single(shape_voxels))  # expected output: chair"
   ]
  },
  {
   "cell_type": "code",
   "execution_count": 19,
   "metadata": {
    "pycharm": {
     "name": "#%%\n"
    }
   },
   "outputs": [
    {
     "data": {
      "application/vnd.jupyter.widget-view+json": {
       "model_id": "818c5c22381146c3abc399d3cbb29bd6",
       "version_major": 2,
       "version_minor": 0
      },
      "text/plain": [
       "Output()"
      ]
     },
     "metadata": {},
     "output_type": "display_data"
    }
   ],
   "source": [
    "# get shape voxels and visualize\n",
    "shape_voxels = ShapeNetVox.get_shape_voxels('02691156/6af4383123972f2262b600da24e0965')\n",
    "visualize_occupancy(shape_voxels, flip_axes=True)"
   ]
  },
  {
   "cell_type": "code",
   "execution_count": 20,
   "metadata": {
    "pycharm": {
     "name": "#%%\n"
    }
   },
   "outputs": [
    {
     "name": "stdout",
     "output_type": "stream",
     "text": [
      "Predicted category: airplane\n"
     ]
    }
   ],
   "source": [
    "# predict category\n",
    "print('Predicted category:', inferer.infer_single(shape_voxels))"
   ]
  },
  {
   "cell_type": "code",
   "execution_count": 21,
   "metadata": {
    "pycharm": {
     "name": "#%%\n"
    }
   },
   "outputs": [
    {
     "data": {
      "application/vnd.jupyter.widget-view+json": {
       "model_id": "a9c58abbd2914e989d6215a4e0f57842",
       "version_major": 2,
       "version_minor": 0
      },
      "text/plain": [
       "Output()"
      ]
     },
     "metadata": {},
     "output_type": "display_data"
    }
   ],
   "source": [
    "# get shape voxels and visualize\n",
    "shape_voxels = ShapeNetVox.get_shape_voxels('04090263/eae96ddf483e896c805d3d8e378d155e')\n",
    "visualize_occupancy(shape_voxels, flip_axes=True)"
   ]
  },
  {
   "cell_type": "code",
   "execution_count": 22,
   "metadata": {
    "pycharm": {
     "name": "#%%\n"
    }
   },
   "outputs": [
    {
     "name": "stdout",
     "output_type": "stream",
     "text": [
      "Predicted category: rifle\n"
     ]
    }
   ],
   "source": [
    "# predict category\n",
    "print('Predicted category:', inferer.infer_single(shape_voxels))"
   ]
  },
  {
   "attachments": {},
   "cell_type": "markdown",
   "metadata": {},
   "source": [
    "Make sure you submit the trained model `exercise_2/runs/2_3_3dcnn_generalization/model_best.ckpt` in your zip\n",
    "so that we can evaluate it on the test set at our end."
   ]
  },
  {
   "attachments": {},
   "cell_type": "markdown",
   "metadata": {
    "pycharm": {
     "name": "#%% md\n"
    }
   },
   "source": [
    "## 2.4. Shape Classification using PointNet"
   ]
  },
  {
   "attachments": {},
   "cell_type": "markdown",
   "metadata": {},
   "source": [
    "The approach you used above works very well when there is voxelized data available. However, many applications require that points are used instead and voxelizing them every time is cumbersome and might lead to unexpected artifacts.\n",
    "\n",
    "This is where PointNet [2] is very useful: It directly takes in a set of points and can perform both classification and semantic segmentation without the need for any gridification or other form of conversion.\n",
    "\n",
    "You already heard a lot about the approach and architecture in the lecture; here, our goal is to create an implementation of it from scratch and try it out on some ShapeNet data."
   ]
  },
  {
   "attachments": {},
   "cell_type": "markdown",
   "metadata": {},
   "source": [
    "### (a) Download and prepare the ShapeNetPointClouds dataset\n",
    "We generated point clouds from ShapeNet meshes via uniform sampling. Each point cloud contains 1024 xyz points.\n",
    "\n",
    "The data layout is basically the same as in 2.3.:\n",
    "Each folder in the `exercise_2/data/ShapeNetPointClouds` directory contains one shape category represented by a number, e.g. `02691156`.\n",
    "We provide the mapping between these numbers and the corresponding names in `exercise_2/data/shape_info.json`. Each of these shape category folders contains a number of shapes in obj format.\n",
    "\n",
    "```\n",
    "# contents of exercise_2/data/ShapeNetPointClouds\n",
    "\n",
    "02691156/                                      # Shape category folder with all its shapes\n",
    "    ├── 1a04e3eab45ca15dd86060f189eb133.obj    # A single shape of the category\n",
    "    ├── 1a6ad7a24bb89733f412783097373bdc.obj   # Another shape of the category\n",
    "    ├── :                                      # And so on ...\n",
    "    ├── :\n",
    "02828884/                                      # Another shape category folder\n",
    "02933112/                                      # In total you should have 13 shape category folders\n",
    ":\n",
    ":\n",
    "```"
   ]
  },
  {
   "cell_type": "code",
   "execution_count": null,
   "metadata": {
    "scrolled": true
   },
   "outputs": [],
   "source": [
    "print('Downloading ...')\n",
    "!wget http://kaldir.vc.in.tum.de/cdiller/ShapeNetPointClouds.zip -P exercise_2/data\n",
    "print('Extracting ...')\n",
    "!unzip -q exercise_2/data/ShapeNetPointClouds.zip -d exercise_2/data\n",
    "!rm exercise_2/data/ShapeNetPointClouds.zip\n",
    "print('Done.')"
   ]
  },
  {
   "attachments": {},
   "cell_type": "markdown",
   "metadata": {},
   "source": [
    "### (b) Dataset implementation\n",
    "\n",
    "You can use the same split setup as in 2.3: `overfit.txt` for overfitting, `train.txt` for the train samples, and `val.txt` for the val samples in folder `exercise_2/data/splits/shapenet`.\n",
    "\n",
    "The dataset implementation will therefore be very similar to the one from 2.3: Fill out the missing implementations of functions `__getitem__` and `__len__` in class `ShapeNetPoints` in `exercise_2/data/shapenet.py`.\n",
    "\n",
    "The major difference is how the actual data is loaded: We don't have regular voxel grids anymore and instead load arrays of 1024 points each. In `__getitem__`, we now return 'points' instead of 'voxel' and for loading the point clouds, we use `get_point_cloud` instead of `get_shape_voxels`. You can load the point cloud data either by hand (since it is in the same obj format you used in exercise 1) or simply use `trimesh.load`. The point clouds you return from `__getitem__` should have shape 3 x 1024 and datatype `np.float32`.\n",
    "\n",
    "Otherwise, the implementation is very much the same as in 2.3. Once done, test your implementation below."
   ]
  },
  {
   "cell_type": "code",
   "execution_count": 23,
   "metadata": {},
   "outputs": [
    {
     "name": "stdout",
     "output_type": "stream",
     "text": [
      "Length of train set: 21705\n",
      "Length of val set: 5426\n",
      "Length of overfit set: 64\n"
     ]
    }
   ],
   "source": [
    "from exercise_2.data.shapenet import ShapeNetPoints\n",
    "\n",
    "# Create a dataset with train split\n",
    "train_dataset = ShapeNetPoints('train')\n",
    "val_dataset = ShapeNetPoints('val')\n",
    "overfit_dataset = ShapeNetPoints('overfit')\n",
    "\n",
    "# Get length, which is a call to __len__ function\n",
    "print(f'Length of train set: {len(train_dataset)}')  # expected output: 21705\n",
    "# Get length, which is a call to __len__ function\n",
    "print(f'Length of val set: {len(val_dataset)}')  # expected output: 5426\n",
    "# Get length, which is a call to __len__ function\n",
    "print(f'Length of overfit set: {len(overfit_dataset)}')  # expected output: 64"
   ]
  },
  {
   "cell_type": "code",
   "execution_count": 24,
   "metadata": {},
   "outputs": [
    {
     "name": "stdout",
     "output_type": "stream",
     "text": [
      "Name: 02958343/36fe332c1b11696d51a95aaa6caba1d3\n",
      "Voxel Dimensions: (3, 1024)\n",
      "Label: 3 | 02958343 | car\n"
     ]
    },
    {
     "name": "stderr",
     "output_type": "stream",
     "text": [
      "C:\\Users\\emret\\AppData\\Local\\Packages\\PythonSoftwareFoundation.Python.3.11_qbz5n2kfra8p0\\LocalCache\\local-packages\\Python311\\site-packages\\traittypes\\traittypes.py:97: UserWarning: Given trait value dtype \"float32\" does not match required type \"float32\". A coerced copy has been created.\n",
      "  warnings.warn(\n"
     ]
    },
    {
     "data": {
      "application/vnd.jupyter.widget-view+json": {
       "model_id": "384e851adfb24627bf7a228e5c6fb29b",
       "version_major": 2,
       "version_minor": 0
      },
      "text/plain": [
       "Output()"
      ]
     },
     "metadata": {},
     "output_type": "display_data"
    }
   ],
   "source": [
    "# Visualize some shapes\n",
    "from exercise_2.util.visualization import visualize_pointcloud\n",
    "\n",
    "shape_data = train_dataset[np.random.randint(len(train_dataset))]\n",
    "print(f'Name: {shape_data[\"name\"]}')  # expected output: 04379243/d120d47f8c9bc5028640bc5712201c4a\n",
    "print(f'Voxel Dimensions: {shape_data[\"points\"].shape}')  # expected output: (3, 1024)\n",
    "print(f'Label: {shape_data[\"label\"]} | {ShapeNetPoints.classes[shape_data[\"label\"]]} | {ShapeNetPoints.class_name_mapping[ShapeNetPoints.classes[shape_data[\"label\"]]]}')  # expected output: 10, 04379243\n",
    "\n",
    "visualize_pointcloud(shape_data[\"points\"].T, point_size=0.025, flip_axes=True)"
   ]
  },
  {
   "attachments": {},
   "cell_type": "markdown",
   "metadata": {},
   "source": [
    "### (c) Defining the model\n",
    "\n",
    "The model architecture of PointNet was discussed in the lecture and is visualized below:\n",
    "<img src=\"exercise_2/images/pointnet.png\" alt=\"pointnet_architecture\" style=\"width: 800px;\"/>\n",
    "\n",
    "Some hints for the actual implementation:\n",
    "1. We use conv1d layers with kernel size 1 for all \"shared\" mlps to expand the feature channel dimension, e.g. when the input is of shape batch_size x 3 x 1024 and we apply conv1d(in_features=3, out_features=64), then we get to shape batch_size x 64 x 1024\n",
    "2. The mlps in the classification network after the max pooling operation are implemented using Linear layers\n",
    "3. The numbers in parenthesis after mlp() in the visualization above descibe the number of layers with their out_features dimension. Note though that the first mlp from nx3 to nx64 is expressed as two layers in the original tensorflow code but can be implemented as a single conv1d layer going from 3 to 64 features in the pytorch version.\n",
    "4. We define all layers up to and including the max pooling operation as the `PointNetEncoder`. The architecture of the model head depends on the task we are trying to solve: Either classification (`PointNetClassification`, used in this part of the exercise) or segmentation (`PointNetSegmentation`, used in 2.5).\n",
    "5. ReLU and Batch Norms are applied after each layer, except after the last classification layer. In the last layer before the max operation, we only apply Batch Norm but no ReLU.\n",
    "6. Dropout is applied for classification only after the second Linear layer, before the Batch Norm.\n",
    "7. The TNets are basically small PointNets.\n",
    "\n",
    "Implement the missing parts of the PointNet architecture in `TNet`, `PointNetEncoder`, and `PointNetClassification`, as indicated by the TODOs. All of them are located in `exercise_2/models/pointnet.py`. Use the following code cell to sanity check your implementation:"
   ]
  },
  {
   "cell_type": "code",
   "execution_count": 25,
   "metadata": {},
   "outputs": [
    {
     "name": "stdout",
     "output_type": "stream",
     "text": [
      "   | Name                                    | Type                   | Params \n",
      "-------------------------------------------------------------------------------------\n",
      "0  | encoder                                 | PointNetEncoder        | 2803529\n",
      "1  | encoder.conv1                           | Conv1d                 | 256    \n",
      "2  | encoder.conv1_bn1                       | BatchNorm1d            | 128    \n",
      "3  | encoder.conv2                           | Conv1d                 | 8320   \n",
      "4  | encoder.conv2_bn2                       | BatchNorm1d            | 256    \n",
      "5  | encoder.conv3                           | Conv1d                 | 132096 \n",
      "6  | encoder.conv3_bn3                       | BatchNorm1d            | 2048   \n",
      "7  | encoder.input_transform_net             | TNet                   | 803081 \n",
      "8  | encoder.input_transform_net.conv1       | Conv1d                 | 256    \n",
      "9  | encoder.input_transform_net.conv1_bn1   | BatchNorm1d            | 128    \n",
      "10 | encoder.input_transform_net.conv2       | Conv1d                 | 8320   \n",
      "11 | encoder.input_transform_net.conv2_bn2   | BatchNorm1d            | 256    \n",
      "12 | encoder.input_transform_net.conv3       | Conv1d                 | 132096 \n",
      "13 | encoder.input_transform_net.conv3_bn3   | BatchNorm1d            | 2048   \n",
      "14 | encoder.input_transform_net.fc1         | Linear                 | 524800 \n",
      "15 | encoder.input_transform_net.fc1_bn1     | BatchNorm1d            | 1024   \n",
      "16 | encoder.input_transform_net.fc2         | Linear                 | 131328 \n",
      "17 | encoder.input_transform_net.fc2_bn2     | BatchNorm1d            | 512    \n",
      "18 | encoder.input_transform_net.fc3         | Linear                 | 2313   \n",
      "19 | encoder.feature_transform_net           | TNet                   | 1857344\n",
      "20 | encoder.feature_transform_net.conv1     | Conv1d                 | 4160   \n",
      "21 | encoder.feature_transform_net.conv1_bn1 | BatchNorm1d            | 128    \n",
      "22 | encoder.feature_transform_net.conv2     | Conv1d                 | 8320   \n",
      "23 | encoder.feature_transform_net.conv2_bn2 | BatchNorm1d            | 256    \n",
      "24 | encoder.feature_transform_net.conv3     | Conv1d                 | 132096 \n",
      "25 | encoder.feature_transform_net.conv3_bn3 | BatchNorm1d            | 2048   \n",
      "26 | encoder.feature_transform_net.fc1       | Linear                 | 524800 \n",
      "27 | encoder.feature_transform_net.fc1_bn1   | BatchNorm1d            | 1024   \n",
      "28 | encoder.feature_transform_net.fc2       | Linear                 | 131328 \n",
      "29 | encoder.feature_transform_net.fc2_bn2   | BatchNorm1d            | 512    \n",
      "30 | encoder.feature_transform_net.fc3       | Linear                 | 1052672\n",
      "31 | fc1                                     | Linear                 | 524800 \n",
      "32 | fc1_bn1                                 | BatchNorm1d            | 1024   \n",
      "33 | fc2                                     | Linear                 | 131328 \n",
      "34 | dropout                                 | Dropout                | 0      \n",
      "35 | fc2_bn2                                 | BatchNorm1d            | 512    \n",
      "36 | fc3                                     | Linear                 | 3341   \n",
      "37 | TOTAL                                   | PointNetClassification | 3464534\n",
      "Output tensor shape:  torch.Size([8, 13])\n",
      "Number of traininable params: 3.46M\n"
     ]
    }
   ],
   "source": [
    "from exercise_2.model.pointnet import PointNetClassification\n",
    "from exercise_2.util.model import summarize_model\n",
    "\n",
    "pointnet = PointNetClassification(13)\n",
    "print(summarize_model(pointnet))  # Expected: Rows 0-40 and TOTAL = 3464534\n",
    "\n",
    "input_tensor = torch.randn(8, 3, 1024)\n",
    "predictions = pointnet(input_tensor)\n",
    "\n",
    "print('Output tensor shape: ', predictions.shape)  # Expected: 8, 13\n",
    "num_trainable_params = sum(p.numel() for p in pointnet.parameters() if p.requires_grad) / 1e6\n",
    "print(f'Number of traininable params: {num_trainable_params:.2f}M')  # Expected: ~3M"
   ]
  },
  {
   "attachments": {},
   "cell_type": "markdown",
   "metadata": {},
   "source": [
    "### (d) Training Script and Overfitting\n",
    "\n",
    "You can now go to the train script in `train_pointnet_classification.py` and fill in the missing pieces as in 2.3. Then, verify that your training works by overfitting to a few samples below."
   ]
  },
  {
   "cell_type": "code",
   "execution_count": null,
   "metadata": {},
   "outputs": [],
   "source": [
    "from exercise_2.training import train_pointnet_classification\n",
    "config = {\n",
    "    'experiment_name': '2_4_pointnet_classification_overfitting',\n",
    "    'device': 'cuda:0',                   # change this to cpu if you do not have a GPU\n",
    "    'is_overfit': True,                   # True since we're doing overfitting\n",
    "    'batch_size': 32,\n",
    "    'resume_ckpt': None,\n",
    "    'learning_rate': 0.001,\n",
    "    'max_epochs': 300,\n",
    "    'print_every_n': 10,\n",
    "    'validate_every_n': 10,\n",
    "}\n",
    "\n",
    "train_pointnet_classification.main(config)  # should be able to get ~0 loss, 100% accuracy"
   ]
  },
  {
   "attachments": {},
   "cell_type": "markdown",
   "metadata": {},
   "source": [
    "### (e) Training over the entire training set\n",
    "\n",
    "Once your overfitting completes successfully, you can move on to training on the entire dataset again."
   ]
  },
  {
   "cell_type": "code",
   "execution_count": 26,
   "metadata": {
    "scrolled": true
   },
   "outputs": [
    {
     "name": "stdout",
     "output_type": "stream",
     "text": [
      "Using device: cuda:0\n",
      "Epoch 0, iteration 100, loss 1.0994750988483428\n",
      "Epoch 0, iteration 200, loss 0.7197701713442802\n",
      "Validation loss 0.6354875186786932, validation accuracy 0.8238766340648427\n",
      "Epoch 0, iteration 300, loss 0.5868431742489338\n",
      "Epoch 0, iteration 400, loss 0.5456069715321064\n",
      "Epoch 0, iteration 500, loss 0.5160096467286348\n",
      "Validation loss 0.39383945460705194, validation accuracy 0.8850898693589603\n",
      "Epoch 0, iteration 600, loss 0.4629355683922768\n",
      "Epoch 1, iteration 100, loss 0.40541337087750434\n",
      "Epoch 1, iteration 200, loss 0.3816051550209522\n",
      "Validation loss 0.30672307654338726, validation accuracy 0.9050040851621067\n",
      "Epoch 1, iteration 300, loss 0.35673765033483507\n",
      "Epoch 1, iteration 400, loss 0.3615445046126842\n",
      "Epoch 1, iteration 500, loss 0.3402876528725028\n",
      "Validation loss 0.3037998229484348, validation accuracy 0.9010416665497948\n",
      "Epoch 1, iteration 600, loss 0.34854843392968177\n",
      "Epoch 2, iteration 100, loss 0.32785574659705163\n",
      "Epoch 2, iteration 200, loss 0.3465174074470997\n",
      "Validation loss 0.3105355099939248, validation accuracy 0.8958537582088919\n",
      "Epoch 2, iteration 300, loss 0.3444755395874381\n",
      "Epoch 2, iteration 400, loss 0.32441454015672205\n",
      "Epoch 2, iteration 500, loss 0.31082832761108875\n",
      "Validation loss 0.2794780264772913, validation accuracy 0.915665849867989\n",
      "Epoch 2, iteration 600, loss 0.31029318101704123\n",
      "Epoch 3, iteration 100, loss 0.31492261443287134\n",
      "Epoch 3, iteration 200, loss 0.3052447428368032\n",
      "Validation loss 0.2897560178357012, validation accuracy 0.9063316993853625\n",
      "Epoch 3, iteration 300, loss 0.30922417737543584\n",
      "Epoch 3, iteration 400, loss 0.32351894207298754\n",
      "Epoch 3, iteration 500, loss 0.2810073818266392\n",
      "Validation loss 0.29764075987040994, validation accuracy 0.9109272876206567\n",
      "Epoch 3, iteration 600, loss 0.27828604850918054\n",
      "Epoch 4, iteration 100, loss 0.2783323098346591\n",
      "Epoch 4, iteration 200, loss 0.2668382265046239\n",
      "Validation loss 0.27266834074740903, validation accuracy 0.9121732028091655\n",
      "Epoch 4, iteration 300, loss 0.28201449116691946\n",
      "Epoch 4, iteration 400, loss 0.2694464730843902\n",
      "Epoch 4, iteration 500, loss 0.261049443744123\n",
      "Validation loss 0.23266175519675017, validation accuracy 0.9228349675150479\n",
      "Epoch 4, iteration 600, loss 0.289311677031219\n",
      "Epoch 5, iteration 100, loss 0.2736033206805587\n",
      "Epoch 5, iteration 200, loss 0.2598942181095481\n",
      "Validation loss 0.2258753807119587, validation accuracy 0.9324346405618331\n",
      "Epoch 5, iteration 300, loss 0.25061636060476306\n",
      "Epoch 5, iteration 400, loss 0.24749087816104293\n",
      "Epoch 5, iteration 500, loss 0.258976792357862\n",
      "Validation loss 0.2666273208335042, validation accuracy 0.9217728758559508\n",
      "Epoch 5, iteration 600, loss 0.24805370349436998\n"
     ]
    }
   ],
   "source": [
    "from exercise_2.training import train_pointnet_classification\n",
    "config = {\n",
    "    'experiment_name': '2_4_pointnet_classification_generalization',\n",
    "    'device': 'cuda:0',                    # change this to cpu if you do not have a GPU\n",
    "    'is_overfit': False,\n",
    "    'batch_size': 32,\n",
    "    'resume_ckpt': None,\n",
    "    'learning_rate': 0.001,\n",
    "    'max_epochs': 6,\n",
    "    'print_every_n': 100,\n",
    "    'validate_every_n': 250,\n",
    "}\n",
    "\n",
    "train_pointnet_classification.main(config)  # Should be able to get > 92% accuracy on the val set"
   ]
  },
  {
   "attachments": {},
   "cell_type": "markdown",
   "metadata": {},
   "source": [
    "### (f) Inference using the trained model"
   ]
  },
  {
   "cell_type": "code",
   "execution_count": 27,
   "metadata": {},
   "outputs": [],
   "source": [
    "from exercise_2.inference.infer_pointnet_classification import InferenceHandlerPointNetClassification\n",
    "\n",
    "\n",
    "# create a handler for inference using a trained checkpoint\n",
    "inferer = InferenceHandlerPointNetClassification('exercise_2/runs/2_4_pointnet_classification_generalization/model_best.ckpt')"
   ]
  },
  {
   "cell_type": "code",
   "execution_count": 28,
   "metadata": {},
   "outputs": [
    {
     "name": "stdout",
     "output_type": "stream",
     "text": [
      "Predicted category: chair\n"
     ]
    },
    {
     "data": {
      "application/vnd.jupyter.widget-view+json": {
       "model_id": "25ada8180f924be1b3fa4409831144a9",
       "version_major": 2,
       "version_minor": 0
      },
      "text/plain": [
       "Output()"
      ]
     },
     "metadata": {},
     "output_type": "display_data"
    }
   ],
   "source": [
    "# get shape point cloud and visualize\n",
    "shape_points = ShapeNetPoints.get_point_cloud('03001627/f913501826c588e89753496ba23f2183')\n",
    "print('Predicted category:', inferer.infer_single(shape_points))  # expected output: chair\n",
    "visualize_pointcloud(shape_points.T, point_size=0.025, flip_axes=True)"
   ]
  },
  {
   "cell_type": "code",
   "execution_count": 29,
   "metadata": {},
   "outputs": [
    {
     "name": "stdout",
     "output_type": "stream",
     "text": [
      "Predicted category: airplane\n"
     ]
    },
    {
     "data": {
      "application/vnd.jupyter.widget-view+json": {
       "model_id": "b69893b5693a42f888e96611cab37c14",
       "version_major": 2,
       "version_minor": 0
      },
      "text/plain": [
       "Output()"
      ]
     },
     "metadata": {},
     "output_type": "display_data"
    }
   ],
   "source": [
    "# get shape point cloud and visualize\n",
    "shape_points = ShapeNetPoints.get_point_cloud('02691156/6af4383123972f2262b600da24e0965')\n",
    "print('Predicted category:', inferer.infer_single(shape_points))\n",
    "visualize_pointcloud(shape_points.T, point_size=0.025, flip_axes=True)"
   ]
  },
  {
   "cell_type": "code",
   "execution_count": 30,
   "metadata": {},
   "outputs": [
    {
     "name": "stdout",
     "output_type": "stream",
     "text": [
      "Predicted category: rifle\n"
     ]
    },
    {
     "data": {
      "application/vnd.jupyter.widget-view+json": {
       "model_id": "80306907b9ce49c4b9fc4a07f239940c",
       "version_major": 2,
       "version_minor": 0
      },
      "text/plain": [
       "Output()"
      ]
     },
     "metadata": {},
     "output_type": "display_data"
    }
   ],
   "source": [
    "# get shape point cloud and visualize\n",
    "shape_points = ShapeNetPoints.get_point_cloud('04090263/eae96ddf483e896c805d3d8e378d155e')\n",
    "print('Predicted category:', inferer.infer_single(shape_points))\n",
    "visualize_pointcloud(shape_points.T, point_size=0.025, flip_axes=True)"
   ]
  },
  {
   "attachments": {},
   "cell_type": "markdown",
   "metadata": {},
   "source": [
    "Make sure you submit the trained model `exercise_2/runs/2_4_pointnet_classification_generalization/model_best.ckpt` in your zip\n",
    "so that we can evaluate it on the test set at our end."
   ]
  },
  {
   "attachments": {},
   "cell_type": "markdown",
   "metadata": {},
   "source": [
    "## 2.5. Shape Parts Segmentation using PointNet\n",
    "\n",
    "We now go one step further: We do not just want to learn the overall class label for a given shape but instead for each point in a shape the part it belongs to. We call this Part Segmentation. The good thing is that we can actually re-use most of the PointNet architecture from 2.4."
   ]
  },
  {
   "attachments": {},
   "cell_type": "markdown",
   "metadata": {},
   "source": [
    "### (a) Download the ShapeNetPart dataset\n",
    "\n",
    "Annotating data for segmentation is a lot of effort since labelling has to be performed within the shape for each part instead of globally for the entire shape.\n",
    "\n",
    "Luckily, there are existing datasets we can use for this. In our case, this is the ShapeNet Part Segmenation dataset that you can download in the cell below.\n",
    "\n",
    "In terms of data layout, the general idea of shape class identifiers and shape IDs is the same; we just have slightly different shape categories now. Also, each point cloud now has a correponding file specifying the part class for every point.\n",
    "\n",
    "We put the shape class labels for this dataset in `exercise_2/data/shape_parts_info.json`, analogous to `shape_info.json` from exercise parts 2.3 and 2.4.\n",
    "\n",
    "The point cloud data is stored as pts files which is basically an even simpler version of obj. It omits the v in front of each line that represents a point and does not support faces. Each line therefore represents one point with its xyz coordinates, separated by a space.\n",
    "\n",
    "```\n",
    "# contents of exercise_2/data/shapenetcore_partanno_segmentation_benchmark_v0\n",
    "\n",
    "02691156/                                         # Shape category folder with all its shapes\n",
    "    ├── points                                    # All point clouds go here\n",
    "        ├── 1a04e3eab45ca15dd86060f189eb133.pts   # Point cloud data\n",
    "        ├── 1a32f10b20170883663e90eaf6b4ca52.pts  # Another point cloud\n",
    "        :\n",
    "        :\n",
    "    ├── points_label                              # Part labels for each point in the corresponding pts file\n",
    "        ├── 1a04e3eab45ca15dd86060f189eb133.seg   # Each line represents the local part class of a point\n",
    "        ├── 1a32f10b20170883663e90eaf6b4ca52.seg  # Another segmentation file\n",
    "        :\n",
    "        :\n",
    "    ├── seg_img                                   # Visualizations of the original mesh part segmentation\n",
    "02773838/                                         # Another shape category folder\n",
    "02954340/                                         # In total you should have 16 shape category folders\n",
    ":\n",
    ":\n",
    "train_test_split/                                 # Official split IDs\n",
    "```"
   ]
  },
  {
   "cell_type": "code",
   "execution_count": null,
   "metadata": {},
   "outputs": [],
   "source": [
    "print('Downloading ...')\n",
    "!wget https://shapenet.cs.stanford.edu/ericyi/shapenetcore_partanno_segmentation_benchmark_v0.zip --no-check-certificate -P exercise_2/data\n",
    "print('Extracting ...')\n",
    "!unzip -q exercise_2/data/shapenetcore_partanno_segmentation_benchmark_v0.zip -d exercise_2/data\n",
    "!rm exercise_2/data/shapenetcore_partanno_segmentation_benchmark_v0.zip\n",
    "print('Done.')"
   ]
  },
  {
   "attachments": {},
   "cell_type": "markdown",
   "metadata": {},
   "source": [
    "### (b) Dataset implementation\n",
    "\n",
    "You can use the same split setup as in 2.3 and 2.4: `overfit.txt` for overfitting, `train.txt` for the train samples, and `val.txt` for the val samples; This time, use the files in folder `exercise_2/data/splits/shapenet_parts`.\n",
    "\n",
    "The dataset implementation will be similar to 2.3 and 2.4: Fill out the missing implementations of functions `__getitem__` and `__len__` in class `ShapeNetPoints` in `exercise_2/data/shapenet_parts.py`. Note that you now need to load not only the point cloud but also the per-point segmentation labels in function `get_point_cloud_with_labels`. Since each point cloud in this dataset contains more than 1024 points, we also need to sub-sample the raw points list. Use `np.random.choice` for this: Randomizing the sampling will work as augmentation which in turn helps prevent overfitting. Make sure to sample the corresponding points and labels when doing so.\n",
    "\n",
    "Once done, test your implementation below."
   ]
  },
  {
   "cell_type": "code",
   "execution_count": 31,
   "metadata": {},
   "outputs": [
    {
     "name": "stdout",
     "output_type": "stream",
     "text": [
      "Length of train set: 12137\n",
      "Length of val set: 1870\n",
      "Length of overfit set: 64\n"
     ]
    }
   ],
   "source": [
    "from exercise_2.data.shapenet_parts import ShapeNetParts\n",
    "\n",
    "# Create a dataset with train split\n",
    "train_dataset = ShapeNetParts('train')\n",
    "val_dataset = ShapeNetParts('val')\n",
    "overfit_dataset = ShapeNetParts('overfit')\n",
    "\n",
    "# Get length, which is a call to __len__ function\n",
    "print(f'Length of train set: {len(train_dataset)}')  # expected output: 12137\n",
    "# Get length, which is a call to __len__ function\n",
    "print(f'Length of val set: {len(val_dataset)}')  # expected output: 1870\n",
    "# Get length, which is a call to __len__ function\n",
    "print(f'Length of overfit set: {len(overfit_dataset)}')  # expected output: 64"
   ]
  },
  {
   "attachments": {},
   "cell_type": "markdown",
   "metadata": {},
   "source": [
    "### (c) Modifying the PointNet Model\n",
    "\n",
    "Take a look at the PointNet architecture again:\n",
    "<img src=\"exercise_2/images/pointnet.png\" alt=\"pointnet_architecture\" style=\"width: 800px;\"/>\n",
    "\n",
    "We only cared about the blue classification part in 2.4. Now, we also want to implement the yellow part. You can re-use your encoder from 2.4. \n",
    "\n",
    "The idea is simple: Take the n points with 64-dimensional point features from the correct layer of the encoder and concatenate the global shape descriptor you get after applying the max function to it. Then, implement the remaining layers as conv1ds with batchnorm and relu after all but the last layer. The final layer reduces the dimensionality per point to m which is 50 in our case since we have 50 overall parts.\n",
    "\n",
    "Add the missing layers to `PointNetSegmentation` in `exercise_2/models/pointnet.py` and finish the implementation of the forward pass."
   ]
  },
  {
   "cell_type": "code",
   "execution_count": 32,
   "metadata": {},
   "outputs": [
    {
     "name": "stdout",
     "output_type": "stream",
     "text": [
      "   | Name                                    | Type                 | Params \n",
      "-----------------------------------------------------------------------------------\n",
      "0  | encoder                                 | PointNetEncoder      | 2803529\n",
      "1  | encoder.conv1                           | Conv1d               | 256    \n",
      "2  | encoder.conv1_bn1                       | BatchNorm1d          | 128    \n",
      "3  | encoder.conv2                           | Conv1d               | 8320   \n",
      "4  | encoder.conv2_bn2                       | BatchNorm1d          | 256    \n",
      "5  | encoder.conv3                           | Conv1d               | 132096 \n",
      "6  | encoder.conv3_bn3                       | BatchNorm1d          | 2048   \n",
      "7  | encoder.input_transform_net             | TNet                 | 803081 \n",
      "8  | encoder.input_transform_net.conv1       | Conv1d               | 256    \n",
      "9  | encoder.input_transform_net.conv1_bn1   | BatchNorm1d          | 128    \n",
      "10 | encoder.input_transform_net.conv2       | Conv1d               | 8320   \n",
      "11 | encoder.input_transform_net.conv2_bn2   | BatchNorm1d          | 256    \n",
      "12 | encoder.input_transform_net.conv3       | Conv1d               | 132096 \n",
      "13 | encoder.input_transform_net.conv3_bn3   | BatchNorm1d          | 2048   \n",
      "14 | encoder.input_transform_net.fc1         | Linear               | 524800 \n",
      "15 | encoder.input_transform_net.fc1_bn1     | BatchNorm1d          | 1024   \n",
      "16 | encoder.input_transform_net.fc2         | Linear               | 131328 \n",
      "17 | encoder.input_transform_net.fc2_bn2     | BatchNorm1d          | 512    \n",
      "18 | encoder.input_transform_net.fc3         | Linear               | 2313   \n",
      "19 | encoder.feature_transform_net           | TNet                 | 1857344\n",
      "20 | encoder.feature_transform_net.conv1     | Conv1d               | 4160   \n",
      "21 | encoder.feature_transform_net.conv1_bn1 | BatchNorm1d          | 128    \n",
      "22 | encoder.feature_transform_net.conv2     | Conv1d               | 8320   \n",
      "23 | encoder.feature_transform_net.conv2_bn2 | BatchNorm1d          | 256    \n",
      "24 | encoder.feature_transform_net.conv3     | Conv1d               | 132096 \n",
      "25 | encoder.feature_transform_net.conv3_bn3 | BatchNorm1d          | 2048   \n",
      "26 | encoder.feature_transform_net.fc1       | Linear               | 524800 \n",
      "27 | encoder.feature_transform_net.fc1_bn1   | BatchNorm1d          | 1024   \n",
      "28 | encoder.feature_transform_net.fc2       | Linear               | 131328 \n",
      "29 | encoder.feature_transform_net.fc2_bn2   | BatchNorm1d          | 512    \n",
      "30 | encoder.feature_transform_net.fc3       | Linear               | 1052672\n",
      "31 | fc1                                     | Conv1d               | 557568 \n",
      "32 | fc1_bn1                                 | BatchNorm1d          | 1024   \n",
      "33 | fc2                                     | Conv1d               | 131328 \n",
      "34 | fc2_bn2                                 | BatchNorm1d          | 512    \n",
      "35 | fc3                                     | Conv1d               | 32896  \n",
      "36 | fc3_bn3                                 | BatchNorm1d          | 256    \n",
      "37 | fc4                                     | Conv1d               | 6450   \n",
      "38 | TOTAL                                   | PointNetSegmentation | 3533563\n",
      "Output tensor shape:  torch.Size([8, 1024, 50])\n",
      "Number of traininable params: 3.53M\n"
     ]
    }
   ],
   "source": [
    "from exercise_2.model.pointnet import PointNetSegmentation\n",
    "from exercise_2.util.model import summarize_model\n",
    "\n",
    "pointnet = PointNetSegmentation(50)\n",
    "print(summarize_model(pointnet))  # Expected: Rows 0-40 and TOTAL = 3533563\n",
    "\n",
    "input_tensor = torch.randn(8, 3, 1024)\n",
    "predictions = pointnet(input_tensor)\n",
    "\n",
    "print('Output tensor shape: ', predictions.shape)  # Expected: 8, 1024, 50\n",
    "num_trainable_params = sum(p.numel() for p in pointnet.parameters() if p.requires_grad) / 1e6\n",
    "print(f'Number of traininable params: {num_trainable_params:.2f}M')  # Expected: ~3M"
   ]
  },
  {
   "attachments": {},
   "cell_type": "markdown",
   "metadata": {},
   "source": [
    "### (d) Training Script and Overfitting\n",
    "\n",
    "You can now go to the train script in `train_pointnet_segmentation.py` and fill in the missing pieces as in 2.3 and 2.4. Then, verify that your training work by overfitting to a few samples below."
   ]
  },
  {
   "cell_type": "code",
   "execution_count": null,
   "metadata": {},
   "outputs": [],
   "source": [
    "from exercise_2.training import train_pointnet_segmentation\n",
    "config = {\n",
    "    'experiment_name': '2_5_pointnet_segmentation_overfitting',\n",
    "    'device': 'cuda:0',                   # change this to cpu if you do not have a GPU\n",
    "    'is_overfit': True,                   # True since we're doing overfitting\n",
    "    'batch_size': 32,\n",
    "    'resume_ckpt': None,\n",
    "    'learning_rate': 0.001,\n",
    "    'max_epochs': 1000,\n",
    "    'print_every_n': 5,\n",
    "    'validate_every_n': 20,\n",
    "}\n",
    "\n",
    "train_pointnet_segmentation.main(config)  # should be able to get ~0.03 loss, >97% accuracy, >0.95 iou"
   ]
  },
  {
   "attachments": {},
   "cell_type": "markdown",
   "metadata": {},
   "source": [
    "### (e) Training over the entire training set\n",
    "\n",
    "Once your overfitting completes successfully, you can move on to training on the entire dataset again."
   ]
  },
  {
   "cell_type": "code",
   "execution_count": 33,
   "metadata": {
    "scrolled": true
   },
   "outputs": [
    {
     "name": "stdout",
     "output_type": "stream",
     "text": [
      "Using device: cuda:0\n",
      "[000/00009] train_loss: 3.066\n",
      "[000/00019] train_loss: 2.043\n",
      "[000/00029] train_loss: 1.566\n",
      "[000/00039] train_loss: 1.384\n",
      "[000/00049] train_loss: 1.232\n",
      "[000/00059] train_loss: 1.131\n",
      "[000/00069] train_loss: 1.079\n",
      "[000/00079] train_loss: 1.065\n",
      "[000/00089] train_loss: 1.146\n",
      "[000/00099] train_loss: 1.144\n",
      "[000/00109] train_loss: 1.159\n",
      "[000/00119] train_loss: 1.021\n",
      "[000/00129] train_loss: 0.965\n",
      "[000/00139] train_loss: 0.979\n",
      "[000/00149] train_loss: 0.938\n",
      "[000/00159] train_loss: 0.924\n",
      "[000/00169] train_loss: 0.939\n",
      "[000/00179] train_loss: 0.855\n",
      "[000/00189] train_loss: 0.867\n",
      "[000/00199] train_loss: 0.868\n",
      "[000/00209] train_loss: 0.915\n",
      "[000/00219] train_loss: 0.771\n",
      "[000/00229] train_loss: 0.818\n",
      "[000/00239] train_loss: 0.824\n",
      "[000/00249] train_loss: 0.799\n",
      "[000/00249] val_loss: 0.645, val_accuracy: 79.285%, val_iou: 0.663\n",
      "[000/00259] train_loss: 0.709\n",
      "[000/00269] train_loss: 0.730\n",
      "[000/00279] train_loss: 0.780\n",
      "[000/00289] train_loss: 0.738\n",
      "[000/00299] train_loss: 0.612\n",
      "[000/00309] train_loss: 0.594\n",
      "[000/00319] train_loss: 0.580\n",
      "[000/00329] train_loss: 0.757\n",
      "[000/00339] train_loss: 0.560\n",
      "[000/00349] train_loss: 0.738\n",
      "[000/00359] train_loss: 0.606\n",
      "[000/00369] train_loss: 0.624\n",
      "[000/00379] train_loss: 0.727\n",
      "[001/00009] train_loss: 0.612\n",
      "[001/00019] train_loss: 0.597\n",
      "[001/00029] train_loss: 0.559\n",
      "[001/00039] train_loss: 0.596\n",
      "[001/00049] train_loss: 0.660\n",
      "[001/00059] train_loss: 0.524\n",
      "[001/00069] train_loss: 0.582\n",
      "[001/00079] train_loss: 0.609\n",
      "[001/00089] train_loss: 0.520\n",
      "[001/00099] train_loss: 0.527\n",
      "[001/00109] train_loss: 0.509\n",
      "[001/00119] train_loss: 0.524\n",
      "[001/00119] val_loss: 0.432, val_accuracy: 86.137%, val_iou: 0.732\n",
      "[001/00129] train_loss: 0.476\n",
      "[001/00139] train_loss: 0.459\n",
      "[001/00149] train_loss: 0.499\n",
      "[001/00159] train_loss: 0.456\n",
      "[001/00169] train_loss: 0.528\n",
      "[001/00179] train_loss: 0.505\n",
      "[001/00189] train_loss: 0.531\n",
      "[001/00199] train_loss: 0.505\n",
      "[001/00209] train_loss: 0.575\n",
      "[001/00219] train_loss: 0.448\n",
      "[001/00229] train_loss: 0.424\n",
      "[001/00239] train_loss: 0.447\n",
      "[001/00249] train_loss: 0.504\n",
      "[001/00259] train_loss: 0.466\n",
      "[001/00269] train_loss: 0.511\n",
      "[001/00279] train_loss: 0.486\n",
      "[001/00289] train_loss: 0.470\n",
      "[001/00299] train_loss: 0.427\n",
      "[001/00309] train_loss: 0.487\n",
      "[001/00319] train_loss: 0.472\n",
      "[001/00329] train_loss: 0.518\n",
      "[001/00339] train_loss: 0.464\n",
      "[001/00349] train_loss: 0.482\n",
      "[001/00359] train_loss: 0.463\n",
      "[001/00369] train_loss: 0.398\n",
      "[001/00369] val_loss: 0.387, val_accuracy: 87.556%, val_iou: 0.763\n",
      "[001/00379] train_loss: 0.578\n",
      "[002/00009] train_loss: 0.564\n",
      "[002/00019] train_loss: 0.468\n",
      "[002/00029] train_loss: 0.400\n",
      "[002/00039] train_loss: 0.484\n",
      "[002/00049] train_loss: 0.420\n",
      "[002/00059] train_loss: 0.378\n",
      "[002/00069] train_loss: 0.403\n",
      "[002/00079] train_loss: 0.433\n",
      "[002/00089] train_loss: 0.385\n",
      "[002/00099] train_loss: 0.419\n",
      "[002/00109] train_loss: 0.415\n",
      "[002/00119] train_loss: 0.401\n",
      "[002/00129] train_loss: 0.447\n",
      "[002/00139] train_loss: 0.439\n",
      "[002/00149] train_loss: 0.341\n",
      "[002/00159] train_loss: 0.409\n",
      "[002/00169] train_loss: 0.464\n",
      "[002/00179] train_loss: 0.393\n",
      "[002/00189] train_loss: 0.418\n",
      "[002/00199] train_loss: 0.353\n",
      "[002/00209] train_loss: 0.330\n",
      "[002/00219] train_loss: 0.422\n",
      "[002/00229] train_loss: 0.413\n",
      "[002/00239] train_loss: 0.399\n",
      "[002/00239] val_loss: 0.348, val_accuracy: 88.298%, val_iou: 0.784\n",
      "[002/00249] train_loss: 0.395\n",
      "[002/00259] train_loss: 0.386\n",
      "[002/00269] train_loss: 0.314\n",
      "[002/00279] train_loss: 0.369\n",
      "[002/00289] train_loss: 0.330\n",
      "[002/00299] train_loss: 0.392\n",
      "[002/00309] train_loss: 0.360\n",
      "[002/00319] train_loss: 0.428\n",
      "[002/00329] train_loss: 0.354\n",
      "[002/00339] train_loss: 0.332\n",
      "[002/00349] train_loss: 0.380\n",
      "[002/00359] train_loss: 0.361\n",
      "[002/00369] train_loss: 0.440\n",
      "[002/00379] train_loss: 0.501\n",
      "[003/00009] train_loss: 0.515\n",
      "[003/00019] train_loss: 0.426\n",
      "[003/00029] train_loss: 0.479\n",
      "[003/00039] train_loss: 0.426\n",
      "[003/00049] train_loss: 0.403\n",
      "[003/00059] train_loss: 0.345\n",
      "[003/00069] train_loss: 0.340\n",
      "[003/00079] train_loss: 0.372\n",
      "[003/00089] train_loss: 0.354\n",
      "[003/00099] train_loss: 0.330\n",
      "[003/00109] train_loss: 0.340\n",
      "[003/00109] val_loss: 0.314, val_accuracy: 89.684%, val_iou: 0.793\n",
      "[003/00119] train_loss: 0.400\n",
      "[003/00129] train_loss: 0.376\n",
      "[003/00139] train_loss: 0.319\n",
      "[003/00149] train_loss: 0.404\n",
      "[003/00159] train_loss: 0.411\n",
      "[003/00169] train_loss: 0.377\n",
      "[003/00179] train_loss: 0.337\n",
      "[003/00189] train_loss: 0.303\n",
      "[003/00199] train_loss: 0.383\n",
      "[003/00209] train_loss: 0.339\n",
      "[003/00219] train_loss: 0.324\n",
      "[003/00229] train_loss: 0.332\n",
      "[003/00239] train_loss: 0.336\n",
      "[003/00249] train_loss: 0.444\n",
      "[003/00259] train_loss: 0.327\n",
      "[003/00269] train_loss: 0.357\n",
      "[003/00279] train_loss: 0.329\n",
      "[003/00289] train_loss: 0.353\n",
      "[003/00299] train_loss: 0.282\n",
      "[003/00309] train_loss: 0.330\n",
      "[003/00319] train_loss: 0.414\n",
      "[003/00329] train_loss: 0.373\n",
      "[003/00339] train_loss: 0.341\n",
      "[003/00349] train_loss: 0.356\n",
      "[003/00359] train_loss: 0.400\n",
      "[003/00359] val_loss: 0.294, val_accuracy: 90.246%, val_iou: 0.796\n",
      "[003/00369] train_loss: 0.319\n",
      "[003/00379] train_loss: 0.278\n",
      "[004/00009] train_loss: 0.339\n",
      "[004/00019] train_loss: 0.290\n",
      "[004/00029] train_loss: 0.298\n",
      "[004/00039] train_loss: 0.320\n",
      "[004/00049] train_loss: 0.316\n",
      "[004/00059] train_loss: 0.307\n",
      "[004/00069] train_loss: 0.381\n",
      "[004/00079] train_loss: 0.328\n",
      "[004/00089] train_loss: 0.337\n",
      "[004/00099] train_loss: 0.351\n",
      "[004/00109] train_loss: 0.300\n",
      "[004/00119] train_loss: 0.386\n",
      "[004/00129] train_loss: 0.331\n",
      "[004/00139] train_loss: 0.300\n",
      "[004/00149] train_loss: 0.319\n",
      "[004/00159] train_loss: 0.378\n",
      "[004/00169] train_loss: 0.394\n",
      "[004/00179] train_loss: 0.334\n",
      "[004/00189] train_loss: 0.343\n",
      "[004/00199] train_loss: 0.340\n",
      "[004/00209] train_loss: 0.327\n",
      "[004/00219] train_loss: 0.311\n",
      "[004/00229] train_loss: 0.345\n",
      "[004/00229] val_loss: 0.308, val_accuracy: 89.782%, val_iou: 0.794\n",
      "[004/00239] train_loss: 0.297\n",
      "[004/00249] train_loss: 0.319\n",
      "[004/00259] train_loss: 0.334\n",
      "[004/00269] train_loss: 0.309\n",
      "[004/00279] train_loss: 0.284\n",
      "[004/00289] train_loss: 0.307\n",
      "[004/00299] train_loss: 0.336\n",
      "[004/00309] train_loss: 0.289\n",
      "[004/00319] train_loss: 0.348\n",
      "[004/00329] train_loss: 0.283\n",
      "[004/00339] train_loss: 0.324\n",
      "[004/00349] train_loss: 0.326\n",
      "[004/00359] train_loss: 0.317\n",
      "[004/00369] train_loss: 0.323\n",
      "[004/00379] train_loss: 0.333\n",
      "[005/00009] train_loss: 0.362\n",
      "[005/00019] train_loss: 0.337\n",
      "[005/00029] train_loss: 0.328\n",
      "[005/00039] train_loss: 0.314\n",
      "[005/00049] train_loss: 0.346\n",
      "[005/00059] train_loss: 0.331\n",
      "[005/00069] train_loss: 0.308\n",
      "[005/00079] train_loss: 0.301\n",
      "[005/00089] train_loss: 0.269\n",
      "[005/00099] train_loss: 0.276\n",
      "[005/00099] val_loss: 0.273, val_accuracy: 90.328%, val_iou: 0.819\n",
      "[005/00109] train_loss: 0.289\n",
      "[005/00119] train_loss: 0.272\n",
      "[005/00129] train_loss: 0.279\n",
      "[005/00139] train_loss: 0.309\n",
      "[005/00149] train_loss: 0.287\n",
      "[005/00159] train_loss: 0.315\n",
      "[005/00169] train_loss: 0.281\n",
      "[005/00179] train_loss: 0.316\n",
      "[005/00189] train_loss: 0.322\n",
      "[005/00199] train_loss: 0.260\n",
      "[005/00209] train_loss: 0.293\n",
      "[005/00219] train_loss: 0.299\n",
      "[005/00229] train_loss: 0.264\n",
      "[005/00239] train_loss: 0.262\n",
      "[005/00249] train_loss: 0.315\n",
      "[005/00259] train_loss: 0.308\n",
      "[005/00269] train_loss: 0.314\n",
      "[005/00279] train_loss: 0.310\n",
      "[005/00289] train_loss: 0.287\n",
      "[005/00299] train_loss: 0.314\n",
      "[005/00309] train_loss: 0.260\n",
      "[005/00319] train_loss: 0.309\n",
      "[005/00329] train_loss: 0.290\n",
      "[005/00339] train_loss: 0.303\n",
      "[005/00349] train_loss: 0.295\n",
      "[005/00349] val_loss: 0.282, val_accuracy: 90.280%, val_iou: 0.816\n",
      "[005/00359] train_loss: 0.309\n",
      "[005/00369] train_loss: 0.301\n",
      "[005/00379] train_loss: 0.292\n",
      "[006/00009] train_loss: 0.293\n",
      "[006/00019] train_loss: 0.279\n",
      "[006/00029] train_loss: 0.289\n",
      "[006/00039] train_loss: 0.292\n",
      "[006/00049] train_loss: 0.328\n",
      "[006/00059] train_loss: 0.359\n",
      "[006/00069] train_loss: 0.296\n",
      "[006/00079] train_loss: 0.264\n",
      "[006/00089] train_loss: 0.290\n",
      "[006/00099] train_loss: 0.340\n",
      "[006/00109] train_loss: 0.301\n",
      "[006/00119] train_loss: 0.275\n",
      "[006/00129] train_loss: 0.269\n",
      "[006/00139] train_loss: 0.269\n",
      "[006/00149] train_loss: 0.294\n",
      "[006/00159] train_loss: 0.288\n",
      "[006/00169] train_loss: 0.306\n",
      "[006/00179] train_loss: 0.292\n",
      "[006/00189] train_loss: 0.316\n",
      "[006/00199] train_loss: 0.313\n",
      "[006/00209] train_loss: 0.332\n",
      "[006/00219] train_loss: 0.372\n",
      "[006/00219] val_loss: 0.317, val_accuracy: 89.053%, val_iou: 0.808\n",
      "[006/00229] train_loss: 0.310\n",
      "[006/00239] train_loss: 0.293\n",
      "[006/00249] train_loss: 0.302\n",
      "[006/00259] train_loss: 0.269\n",
      "[006/00269] train_loss: 0.307\n",
      "[006/00279] train_loss: 0.341\n",
      "[006/00289] train_loss: 0.278\n",
      "[006/00299] train_loss: 0.288\n",
      "[006/00309] train_loss: 0.281\n",
      "[006/00319] train_loss: 0.283\n",
      "[006/00329] train_loss: 0.283\n",
      "[006/00339] train_loss: 0.288\n",
      "[006/00349] train_loss: 0.362\n",
      "[006/00359] train_loss: 0.352\n",
      "[006/00369] train_loss: 0.302\n",
      "[006/00379] train_loss: 0.262\n",
      "[007/00009] train_loss: 0.308\n",
      "[007/00019] train_loss: 0.287\n",
      "[007/00029] train_loss: 0.333\n",
      "[007/00039] train_loss: 0.296\n",
      "[007/00049] train_loss: 0.292\n",
      "[007/00059] train_loss: 0.294\n",
      "[007/00069] train_loss: 0.312\n",
      "[007/00079] train_loss: 0.275\n",
      "[007/00089] train_loss: 0.264\n",
      "[007/00089] val_loss: 0.280, val_accuracy: 90.824%, val_iou: 0.817\n",
      "[007/00099] train_loss: 0.264\n",
      "[007/00109] train_loss: 0.320\n",
      "[007/00119] train_loss: 0.286\n",
      "[007/00129] train_loss: 0.295\n",
      "[007/00139] train_loss: 0.299\n",
      "[007/00149] train_loss: 0.286\n",
      "[007/00159] train_loss: 0.286\n",
      "[007/00169] train_loss: 0.353\n",
      "[007/00179] train_loss: 0.222\n",
      "[007/00189] train_loss: 0.263\n",
      "[007/00199] train_loss: 0.286\n",
      "[007/00209] train_loss: 0.305\n",
      "[007/00219] train_loss: 0.264\n",
      "[007/00229] train_loss: 0.328\n",
      "[007/00239] train_loss: 0.267\n",
      "[007/00249] train_loss: 0.237\n",
      "[007/00259] train_loss: 0.237\n",
      "[007/00269] train_loss: 0.250\n",
      "[007/00279] train_loss: 0.221\n",
      "[007/00289] train_loss: 0.270\n",
      "[007/00299] train_loss: 0.252\n",
      "[007/00309] train_loss: 0.293\n",
      "[007/00319] train_loss: 0.303\n",
      "[007/00329] train_loss: 0.274\n",
      "[007/00339] train_loss: 0.273\n",
      "[007/00339] val_loss: 0.288, val_accuracy: 90.327%, val_iou: 0.814\n",
      "[007/00349] train_loss: 0.285\n",
      "[007/00359] train_loss: 0.266\n",
      "[007/00369] train_loss: 0.308\n",
      "[007/00379] train_loss: 0.349\n",
      "[008/00009] train_loss: 0.243\n",
      "[008/00019] train_loss: 0.273\n",
      "[008/00029] train_loss: 0.241\n",
      "[008/00039] train_loss: 0.234\n",
      "[008/00049] train_loss: 0.257\n",
      "[008/00059] train_loss: 0.224\n",
      "[008/00069] train_loss: 0.270\n",
      "[008/00079] train_loss: 0.245\n",
      "[008/00089] train_loss: 0.273\n",
      "[008/00099] train_loss: 0.243\n",
      "[008/00109] train_loss: 0.237\n",
      "[008/00119] train_loss: 0.277\n",
      "[008/00129] train_loss: 0.303\n",
      "[008/00139] train_loss: 0.278\n",
      "[008/00149] train_loss: 0.260\n",
      "[008/00159] train_loss: 0.299\n",
      "[008/00169] train_loss: 0.307\n",
      "[008/00179] train_loss: 0.270\n",
      "[008/00189] train_loss: 0.274\n",
      "[008/00199] train_loss: 0.258\n",
      "[008/00209] train_loss: 0.227\n",
      "[008/00209] val_loss: 0.262, val_accuracy: 91.182%, val_iou: 0.829\n",
      "[008/00219] train_loss: 0.339\n",
      "[008/00229] train_loss: 0.270\n",
      "[008/00239] train_loss: 0.236\n",
      "[008/00249] train_loss: 0.242\n",
      "[008/00259] train_loss: 0.275\n",
      "[008/00269] train_loss: 0.266\n",
      "[008/00279] train_loss: 0.274\n",
      "[008/00289] train_loss: 0.274\n",
      "[008/00299] train_loss: 0.276\n",
      "[008/00309] train_loss: 0.296\n",
      "[008/00319] train_loss: 0.275\n",
      "[008/00329] train_loss: 0.241\n",
      "[008/00339] train_loss: 0.276\n",
      "[008/00349] train_loss: 0.321\n",
      "[008/00359] train_loss: 0.268\n",
      "[008/00369] train_loss: 0.272\n",
      "[008/00379] train_loss: 0.229\n",
      "[009/00009] train_loss: 0.238\n",
      "[009/00019] train_loss: 0.250\n",
      "[009/00029] train_loss: 0.238\n",
      "[009/00039] train_loss: 0.298\n",
      "[009/00049] train_loss: 0.289\n",
      "[009/00059] train_loss: 0.315\n",
      "[009/00069] train_loss: 0.225\n",
      "[009/00079] train_loss: 0.227\n",
      "[009/00079] val_loss: 0.250, val_accuracy: 91.129%, val_iou: 0.827\n",
      "[009/00089] train_loss: 0.275\n",
      "[009/00099] train_loss: 0.278\n",
      "[009/00109] train_loss: 0.251\n",
      "[009/00119] train_loss: 0.221\n",
      "[009/00129] train_loss: 0.242\n",
      "[009/00139] train_loss: 0.255\n",
      "[009/00149] train_loss: 0.228\n",
      "[009/00159] train_loss: 0.276\n",
      "[009/00169] train_loss: 0.245\n",
      "[009/00179] train_loss: 0.244\n",
      "[009/00189] train_loss: 0.269\n",
      "[009/00199] train_loss: 0.287\n",
      "[009/00209] train_loss: 0.277\n",
      "[009/00219] train_loss: 0.256\n",
      "[009/00229] train_loss: 0.237\n",
      "[009/00239] train_loss: 0.231\n",
      "[009/00249] train_loss: 0.243\n",
      "[009/00259] train_loss: 0.246\n",
      "[009/00269] train_loss: 0.234\n",
      "[009/00279] train_loss: 0.220\n",
      "[009/00289] train_loss: 0.247\n",
      "[009/00299] train_loss: 0.259\n",
      "[009/00309] train_loss: 0.287\n",
      "[009/00319] train_loss: 0.346\n",
      "[009/00329] train_loss: 0.285\n",
      "[009/00329] val_loss: 0.272, val_accuracy: 90.892%, val_iou: 0.823\n",
      "[009/00339] train_loss: 0.319\n",
      "[009/00349] train_loss: 0.279\n",
      "[009/00359] train_loss: 0.317\n",
      "[009/00369] train_loss: 0.263\n",
      "[009/00379] train_loss: 0.262\n",
      "[010/00009] train_loss: 0.293\n",
      "[010/00019] train_loss: 0.272\n",
      "[010/00029] train_loss: 0.257\n",
      "[010/00039] train_loss: 0.242\n",
      "[010/00049] train_loss: 0.316\n",
      "[010/00059] train_loss: 0.259\n",
      "[010/00069] train_loss: 0.266\n",
      "[010/00079] train_loss: 0.252\n",
      "[010/00089] train_loss: 0.229\n",
      "[010/00099] train_loss: 0.241\n",
      "[010/00109] train_loss: 0.251\n",
      "[010/00119] train_loss: 0.241\n",
      "[010/00129] train_loss: 0.253\n",
      "[010/00139] train_loss: 0.275\n",
      "[010/00149] train_loss: 0.268\n",
      "[010/00159] train_loss: 0.257\n",
      "[010/00169] train_loss: 0.271\n",
      "[010/00179] train_loss: 0.298\n",
      "[010/00189] train_loss: 0.290\n",
      "[010/00199] train_loss: 0.254\n",
      "[010/00199] val_loss: 0.272, val_accuracy: 90.930%, val_iou: 0.827\n",
      "[010/00209] train_loss: 0.291\n",
      "[010/00219] train_loss: 0.252\n",
      "[010/00229] train_loss: 0.240\n",
      "[010/00239] train_loss: 0.258\n",
      "[010/00249] train_loss: 0.282\n",
      "[010/00259] train_loss: 0.257\n",
      "[010/00269] train_loss: 0.262\n",
      "[010/00279] train_loss: 0.235\n",
      "[010/00289] train_loss: 0.284\n",
      "[010/00299] train_loss: 0.303\n",
      "[010/00309] train_loss: 0.262\n",
      "[010/00319] train_loss: 0.272\n",
      "[010/00329] train_loss: 0.235\n",
      "[010/00339] train_loss: 0.256\n",
      "[010/00349] train_loss: 0.280\n",
      "[010/00359] train_loss: 0.318\n",
      "[010/00369] train_loss: 0.246\n",
      "[010/00379] train_loss: 0.275\n",
      "[011/00009] train_loss: 0.283\n",
      "[011/00019] train_loss: 0.246\n",
      "[011/00029] train_loss: 0.304\n",
      "[011/00039] train_loss: 0.241\n",
      "[011/00049] train_loss: 0.306\n",
      "[011/00059] train_loss: 0.252\n",
      "[011/00069] train_loss: 0.271\n",
      "[011/00069] val_loss: 0.248, val_accuracy: 91.277%, val_iou: 0.832\n",
      "[011/00079] train_loss: 0.250\n",
      "[011/00089] train_loss: 0.251\n",
      "[011/00099] train_loss: 0.243\n",
      "[011/00109] train_loss: 0.255\n",
      "[011/00119] train_loss: 0.247\n",
      "[011/00129] train_loss: 0.228\n",
      "[011/00139] train_loss: 0.252\n",
      "[011/00149] train_loss: 0.255\n",
      "[011/00159] train_loss: 0.244\n",
      "[011/00169] train_loss: 0.232\n",
      "[011/00179] train_loss: 0.245\n",
      "[011/00189] train_loss: 0.235\n",
      "[011/00199] train_loss: 0.239\n",
      "[011/00209] train_loss: 0.213\n",
      "[011/00219] train_loss: 0.237\n",
      "[011/00229] train_loss: 0.223\n",
      "[011/00239] train_loss: 0.282\n",
      "[011/00249] train_loss: 0.260\n",
      "[011/00259] train_loss: 0.270\n",
      "[011/00269] train_loss: 0.221\n",
      "[011/00279] train_loss: 0.226\n",
      "[011/00289] train_loss: 0.206\n",
      "[011/00299] train_loss: 0.231\n",
      "[011/00309] train_loss: 0.233\n",
      "[011/00319] train_loss: 0.279\n",
      "[011/00319] val_loss: 0.278, val_accuracy: 90.653%, val_iou: 0.825\n",
      "[011/00329] train_loss: 0.285\n",
      "[011/00339] train_loss: 0.245\n",
      "[011/00349] train_loss: 0.223\n",
      "[011/00359] train_loss: 0.249\n",
      "[011/00369] train_loss: 0.211\n",
      "[011/00379] train_loss: 0.298\n"
     ]
    }
   ],
   "source": [
    "from exercise_2.training import train_pointnet_segmentation\n",
    "config = {\n",
    "    'experiment_name': '2_5_pointnet_segmentation_generalization',\n",
    "    'device': 'cuda:0',                   # change this to cpu if you do not have a GPU\n",
    "    'is_overfit': False,\n",
    "    'batch_size': 32,\n",
    "    'resume_ckpt': None,\n",
    "    'learning_rate': 0.001,\n",
    "    'max_epochs': 12,\n",
    "    'print_every_n': 10,\n",
    "    'validate_every_n': 250,\n",
    "}\n",
    "\n",
    "train_pointnet_segmentation.main(config)  # Should be able to get > 90% accuracy and > 0.8 iou on the val set"
   ]
  },
  {
   "attachments": {},
   "cell_type": "markdown",
   "metadata": {},
   "source": [
    "### (f) Inference using the trained model"
   ]
  },
  {
   "cell_type": "code",
   "execution_count": 34,
   "metadata": {},
   "outputs": [],
   "source": [
    "from exercise_2.inference.infer_pointnet_segmentation import InferenceHandlerPointNetSegmentation\n",
    "from exercise_2.util.visualization import visualize_pointcloud\n",
    "from matplotlib import cm, colors\n",
    "import numpy as np\n",
    "\n",
    "# create a handler for inference using a trained checkpoint\n",
    "inferer = InferenceHandlerPointNetSegmentation('exercise_2/runs/2_5_pointnet_segmentation_generalization/model_best.ckpt')"
   ]
  },
  {
   "cell_type": "code",
   "execution_count": 35,
   "metadata": {},
   "outputs": [
    {
     "name": "stderr",
     "output_type": "stream",
     "text": [
      "C:\\Users\\emret\\AppData\\Local\\Temp\\ipykernel_22932\\4869984.py:5: MatplotlibDeprecationWarning: The get_cmap function was deprecated in Matplotlib 3.7 and will be removed two minor releases later. Use ``matplotlib.colormaps[name]`` or ``matplotlib.colormaps.get_cmap(obj)`` instead.\n",
      "  point_colors = cm.get_cmap('hsv')(point_labels)[:, :3]\n",
      "C:\\Users\\emret\\AppData\\Local\\Packages\\PythonSoftwareFoundation.Python.3.11_qbz5n2kfra8p0\\LocalCache\\local-packages\\Python311\\site-packages\\traittypes\\traittypes.py:97: UserWarning: Given trait value dtype \"int32\" does not match required type \"uint32\". A coerced copy has been created.\n",
      "  warnings.warn(\n"
     ]
    },
    {
     "data": {
      "application/vnd.jupyter.widget-view+json": {
       "model_id": "13f2640a20ac48789dec8deb203851ee",
       "version_major": 2,
       "version_minor": 0
      },
      "text/plain": [
       "Output()"
      ]
     },
     "metadata": {},
     "output_type": "display_data"
    }
   ],
   "source": [
    "# Get shape point cloud, predict labels, and visualize colored point cloud\n",
    "shape_points = ShapeNetParts.get_point_cloud_with_labels('02691156/1c4b8662938adf41da2b0f839aba40f9')[0]\n",
    "point_labels = inferer.infer_single(shape_points)\n",
    "point_labels = (point_labels - min(point_labels)) / (max(point_labels) - min(point_labels))\n",
    "point_colors = cm.get_cmap('hsv')(point_labels)[:, :3]\n",
    "point_colors = np.sum((point_colors * 255).astype(int) * [255*255, 255, 1], axis=1)\n",
    "visualize_pointcloud(shape_points.T, colors=point_colors, point_size=0.025, flip_axes=True)"
   ]
  },
  {
   "cell_type": "code",
   "execution_count": 36,
   "metadata": {},
   "outputs": [
    {
     "name": "stderr",
     "output_type": "stream",
     "text": [
      "C:\\Users\\emret\\AppData\\Local\\Temp\\ipykernel_22932\\2410277202.py:5: MatplotlibDeprecationWarning: The get_cmap function was deprecated in Matplotlib 3.7 and will be removed two minor releases later. Use ``matplotlib.colormaps[name]`` or ``matplotlib.colormaps.get_cmap(obj)`` instead.\n",
      "  point_colors = cm.get_cmap('hsv')(point_labels)[:, :3]\n"
     ]
    },
    {
     "data": {
      "application/vnd.jupyter.widget-view+json": {
       "model_id": "8e73e1d64efd4b6cbae62aacbfd9907e",
       "version_major": 2,
       "version_minor": 0
      },
      "text/plain": [
       "Output()"
      ]
     },
     "metadata": {},
     "output_type": "display_data"
    }
   ],
   "source": [
    "# Get shape point cloud, predict labels, and visualize colored point cloud\n",
    "shape_points = ShapeNetParts.get_point_cloud_with_labels('03948459/e017cf5dac1e39b013d74211a209ce')[0]\n",
    "point_labels = inferer.infer_single(shape_points)\n",
    "point_labels = (point_labels - min(point_labels)) / (max(point_labels) - min(point_labels))\n",
    "point_colors = cm.get_cmap('hsv')(point_labels)[:, :3]\n",
    "point_colors = np.sum((point_colors * 255).astype(int) * [255*255, 255, 1], axis=1)\n",
    "visualize_pointcloud(shape_points.T, colors=point_colors, point_size=0.025, flip_axes=True)"
   ]
  },
  {
   "cell_type": "code",
   "execution_count": 37,
   "metadata": {},
   "outputs": [
    {
     "name": "stderr",
     "output_type": "stream",
     "text": [
      "C:\\Users\\emret\\AppData\\Local\\Temp\\ipykernel_22932\\1208850587.py:5: MatplotlibDeprecationWarning: The get_cmap function was deprecated in Matplotlib 3.7 and will be removed two minor releases later. Use ``matplotlib.colormaps[name]`` or ``matplotlib.colormaps.get_cmap(obj)`` instead.\n",
      "  point_colors = cm.get_cmap('hsv')(point_labels)[:, :3]\n"
     ]
    },
    {
     "data": {
      "application/vnd.jupyter.widget-view+json": {
       "model_id": "3e17624b4d574ba88e04ff5bc7d7f2c4",
       "version_major": 2,
       "version_minor": 0
      },
      "text/plain": [
       "Output()"
      ]
     },
     "metadata": {},
     "output_type": "display_data"
    }
   ],
   "source": [
    "# Get shape point cloud, predict labels, and visualize colored point cloud\n",
    "shape_points = ShapeNetParts.get_point_cloud_with_labels('03790512/86b6dc954e1ca8e948272812609617e2')[0]\n",
    "point_labels = inferer.infer_single(shape_points)\n",
    "point_labels = (point_labels - min(point_labels)) / (max(point_labels) - min(point_labels))\n",
    "point_colors = cm.get_cmap('hsv')(point_labels)[:, :3]\n",
    "point_colors = np.sum((point_colors * 255).astype(int) * [255*255, 255, 1], axis=1)\n",
    "visualize_pointcloud(shape_points.T, colors=point_colors, point_size=0.025, flip_axes=True)"
   ]
  },
  {
   "attachments": {},
   "cell_type": "markdown",
   "metadata": {},
   "source": [
    "Make sure you submit the trained model exercise_2/runs/2_5_pointnet_segmentation_generalization/model_best.ckpt in your zip so that we can evaluate it on the test set at our end."
   ]
  },
  {
   "attachments": {},
   "cell_type": "markdown",
   "metadata": {},
   "source": [
    "## Submission\n",
    "\n",
    "This is the end of exercise 2 🙂. Please create a zip containing all files we provided, everything you modified, and all of your generated output/visualization files, including your checkpoints. Name it with your matriculation number(s) as described in exercise 1. Make sure this notebook can be run without problems. Then, submit via Moodle.\n",
    "\n",
    "**Submission Deadline**: 30.05.2023, 23:55"
   ]
  },
  {
   "attachments": {},
   "cell_type": "markdown",
   "metadata": {},
   "source": [
    "## References\n",
    "\n"
   ]
  },
  {
   "attachments": {},
   "cell_type": "markdown",
   "metadata": {},
   "source": [
    "[1] Qi, C. et al. “Volumetric and Multi-view CNNs for Object Classification on 3D Data.” 2016 IEEE Conference on Computer Vision and Pattern Recognition (CVPR) (2016): 5648-5656.\n",
    "\n",
    "[2] Qi, C. et al. “PointNet: Deep Learning on Point Sets for 3D Classification and Segmentation.” 2017 IEEE Conference on Computer Vision and Pattern Recognition (CVPR) (2017): 77-85."
   ]
  }
 ],
 "metadata": {
  "kernelspec": {
   "display_name": "Python 3 (ipykernel)",
   "language": "python",
   "name": "python3"
  },
  "language_info": {
   "codemirror_mode": {
    "name": "ipython",
    "version": 3
   },
   "file_extension": ".py",
   "mimetype": "text/x-python",
   "name": "python",
   "nbconvert_exporter": "python",
   "pygments_lexer": "ipython3",
   "version": "3.11.3"
  }
 },
 "nbformat": 4,
 "nbformat_minor": 2
}
